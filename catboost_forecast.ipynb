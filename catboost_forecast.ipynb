{
 "cells": [
  {
   "cell_type": "code",
   "execution_count": 1,
   "metadata": {},
   "outputs": [
    {
     "data": {
      "text/html": [
       "<div>\n",
       "<style scoped>\n",
       "    .dataframe tbody tr th:only-of-type {\n",
       "        vertical-align: middle;\n",
       "    }\n",
       "\n",
       "    .dataframe tbody tr th {\n",
       "        vertical-align: top;\n",
       "    }\n",
       "\n",
       "    .dataframe thead th {\n",
       "        text-align: right;\n",
       "    }\n",
       "</style>\n",
       "<table border=\"1\" class=\"dataframe\">\n",
       "  <thead>\n",
       "    <tr style=\"text-align: right;\">\n",
       "      <th></th>\n",
       "      <th>Open</th>\n",
       "      <th>High</th>\n",
       "      <th>Low</th>\n",
       "      <th>Close</th>\n",
       "      <th>Volume</th>\n",
       "    </tr>\n",
       "    <tr>\n",
       "      <th>Date</th>\n",
       "      <th></th>\n",
       "      <th></th>\n",
       "      <th></th>\n",
       "      <th></th>\n",
       "      <th></th>\n",
       "    </tr>\n",
       "  </thead>\n",
       "  <tbody>\n",
       "    <tr>\n",
       "      <th>2022-02-07 00:00:00-05:00</th>\n",
       "      <td>170.290743</td>\n",
       "      <td>171.364538</td>\n",
       "      <td>168.409128</td>\n",
       "      <td>169.108582</td>\n",
       "      <td>77251200</td>\n",
       "    </tr>\n",
       "    <tr>\n",
       "      <th>2022-02-08 00:00:00-05:00</th>\n",
       "      <td>169.177516</td>\n",
       "      <td>172.743721</td>\n",
       "      <td>168.881972</td>\n",
       "      <td>172.231445</td>\n",
       "      <td>74829200</td>\n",
       "    </tr>\n",
       "    <tr>\n",
       "      <th>2022-02-09 00:00:00-05:00</th>\n",
       "      <td>173.433350</td>\n",
       "      <td>174.024423</td>\n",
       "      <td>172.300434</td>\n",
       "      <td>173.659927</td>\n",
       "      <td>71285000</td>\n",
       "    </tr>\n",
       "    <tr>\n",
       "      <th>2022-02-10 00:00:00-05:00</th>\n",
       "      <td>171.551702</td>\n",
       "      <td>172.871782</td>\n",
       "      <td>169.000202</td>\n",
       "      <td>169.561722</td>\n",
       "      <td>90865900</td>\n",
       "    </tr>\n",
       "    <tr>\n",
       "      <th>2022-02-11 00:00:00-05:00</th>\n",
       "      <td>169.768641</td>\n",
       "      <td>170.507494</td>\n",
       "      <td>165.542396</td>\n",
       "      <td>166.133484</td>\n",
       "      <td>98670700</td>\n",
       "    </tr>\n",
       "    <tr>\n",
       "      <th>...</th>\n",
       "      <td>...</td>\n",
       "      <td>...</td>\n",
       "      <td>...</td>\n",
       "      <td>...</td>\n",
       "      <td>...</td>\n",
       "    </tr>\n",
       "    <tr>\n",
       "      <th>2025-01-28 00:00:00-05:00</th>\n",
       "      <td>230.850006</td>\n",
       "      <td>240.190002</td>\n",
       "      <td>230.809998</td>\n",
       "      <td>238.259995</td>\n",
       "      <td>75707600</td>\n",
       "    </tr>\n",
       "    <tr>\n",
       "      <th>2025-01-29 00:00:00-05:00</th>\n",
       "      <td>234.119995</td>\n",
       "      <td>239.860001</td>\n",
       "      <td>234.009995</td>\n",
       "      <td>239.360001</td>\n",
       "      <td>45486100</td>\n",
       "    </tr>\n",
       "    <tr>\n",
       "      <th>2025-01-30 00:00:00-05:00</th>\n",
       "      <td>238.669998</td>\n",
       "      <td>240.789993</td>\n",
       "      <td>237.210007</td>\n",
       "      <td>237.589996</td>\n",
       "      <td>55658300</td>\n",
       "    </tr>\n",
       "    <tr>\n",
       "      <th>2025-01-31 00:00:00-05:00</th>\n",
       "      <td>247.190002</td>\n",
       "      <td>247.190002</td>\n",
       "      <td>233.440002</td>\n",
       "      <td>236.000000</td>\n",
       "      <td>101075100</td>\n",
       "    </tr>\n",
       "    <tr>\n",
       "      <th>2025-02-03 00:00:00-05:00</th>\n",
       "      <td>229.990005</td>\n",
       "      <td>231.830002</td>\n",
       "      <td>225.699997</td>\n",
       "      <td>228.009995</td>\n",
       "      <td>72896300</td>\n",
       "    </tr>\n",
       "  </tbody>\n",
       "</table>\n",
       "<p>750 rows × 5 columns</p>\n",
       "</div>"
      ],
      "text/plain": [
       "                                 Open        High         Low       Close  \\\n",
       "Date                                                                        \n",
       "2022-02-07 00:00:00-05:00  170.290743  171.364538  168.409128  169.108582   \n",
       "2022-02-08 00:00:00-05:00  169.177516  172.743721  168.881972  172.231445   \n",
       "2022-02-09 00:00:00-05:00  173.433350  174.024423  172.300434  173.659927   \n",
       "2022-02-10 00:00:00-05:00  171.551702  172.871782  169.000202  169.561722   \n",
       "2022-02-11 00:00:00-05:00  169.768641  170.507494  165.542396  166.133484   \n",
       "...                               ...         ...         ...         ...   \n",
       "2025-01-28 00:00:00-05:00  230.850006  240.190002  230.809998  238.259995   \n",
       "2025-01-29 00:00:00-05:00  234.119995  239.860001  234.009995  239.360001   \n",
       "2025-01-30 00:00:00-05:00  238.669998  240.789993  237.210007  237.589996   \n",
       "2025-01-31 00:00:00-05:00  247.190002  247.190002  233.440002  236.000000   \n",
       "2025-02-03 00:00:00-05:00  229.990005  231.830002  225.699997  228.009995   \n",
       "\n",
       "                              Volume  \n",
       "Date                                  \n",
       "2022-02-07 00:00:00-05:00   77251200  \n",
       "2022-02-08 00:00:00-05:00   74829200  \n",
       "2022-02-09 00:00:00-05:00   71285000  \n",
       "2022-02-10 00:00:00-05:00   90865900  \n",
       "2022-02-11 00:00:00-05:00   98670700  \n",
       "...                              ...  \n",
       "2025-01-28 00:00:00-05:00   75707600  \n",
       "2025-01-29 00:00:00-05:00   45486100  \n",
       "2025-01-30 00:00:00-05:00   55658300  \n",
       "2025-01-31 00:00:00-05:00  101075100  \n",
       "2025-02-03 00:00:00-05:00   72896300  \n",
       "\n",
       "[750 rows x 5 columns]"
      ]
     },
     "execution_count": 1,
     "metadata": {},
     "output_type": "execute_result"
    }
   ],
   "source": [
    "import yfinance as yf\n",
    "import pandas as pd\n",
    "from datetime import datetime, timedelta\n",
    "\n",
    "ticker_symbol = \"AAPL\"\n",
    "ticker = yf.Ticker(ticker_symbol)\n",
    "\n",
    "end_date = datetime.today()\n",
    "start_date = end_date - timedelta(days= 3 * 365)\n",
    "\n",
    "start_date_str = start_date.strftime(\"%Y-%m-%d\")\n",
    "end_date_str = end_date.strftime(\"%Y-%m-%d\")\n",
    "\n",
    "history: pd.DataFrame = ticker.history(start=start_date_str, end=end_date_str)\n",
    "\n",
    "history = history[['Open', 'High', 'Low', 'Close', 'Volume']]\n",
    "\n",
    "history\n"
   ]
  },
  {
   "cell_type": "code",
   "execution_count": 2,
   "metadata": {},
   "outputs": [],
   "source": [
    "def add_features(data: pd.DataFrame,\n",
    "                 window_short: int = 5,\n",
    "                 window_long: int = 10,\n",
    "                 rsi_period: int = 14,\n",
    "                 mfi_period: int = 14) -> pd.DataFrame:\n",
    "    \"\"\"\n",
    "    Adds various technical indicators to the stock data.\n",
    "    \n",
    "    Features Added:\n",
    "    - Close_lag1: Previous day's Close price.\n",
    "    - SMA_5: 5-day Simple Moving Average.\n",
    "    - SMA_10: 10-day Simple Moving Average.\n",
    "    - Daily_Return: Percentage change of the Close price.\n",
    "    - Volatility_5: Rolling standard deviation of Daily_Return over 5 days.\n",
    "    - Range_HL: Difference between the day's High and Low.\n",
    "    - RSI: Relative Strength Index computed over rsi_period days.\n",
    "    - MFI: Money Flow Index computed over mfi_period days.\n",
    "    \"\"\"\n",
    "    df = data.copy()\n",
    "    \n",
    "    # If the index is Date and not a column, reset the index.\n",
    "    if 'Date' not in df.columns:\n",
    "        df = df.reset_index()\n",
    "    \n",
    "    # -----------------------------\n",
    "    # Basic features (from earlier)\n",
    "    # -----------------------------\n",
    "    # 1. Previous day's Close price\n",
    "    df['Close_lag1'] = df['Close'].shift(1)\n",
    "    \n",
    "    # 2. Simple Moving Averages\n",
    "    df['SMA_5'] = df['Close'].rolling(window=window_short).mean()\n",
    "    df['SMA_10'] = df['Close'].rolling(window=window_long).mean()\n",
    "    \n",
    "    # 3. Daily Return (% change)\n",
    "    df['Daily_Return'] = df['Close'].pct_change()\n",
    "    \n",
    "    # 4. Rolling Volatility: Standard deviation of Daily_Return over short window\n",
    "    df['Volatility_5'] = df['Daily_Return'].rolling(window=window_short).std()\n",
    "    \n",
    "    # 5. High-Low Range\n",
    "    df['Range_HL'] = df['High'] - df['Low']\n",
    "    \n",
    "    # -----------------------------\n",
    "    # RSI Calculation (Relative Strength Index)\n",
    "    # -----------------------------\n",
    "    delta = df['Close'].diff()\n",
    "    gain = delta.clip(lower=0)\n",
    "    loss = (-delta).clip(lower=0)\n",
    "    \n",
    "    # Calculate average gain and loss using a rolling window\n",
    "    avg_gain = gain.rolling(window=rsi_period, min_periods=rsi_period).mean()\n",
    "    avg_loss = loss.rolling(window=rsi_period, min_periods=rsi_period).mean()\n",
    "    \n",
    "    # Relative Strength (RS) and then RSI\n",
    "    rs = avg_gain / avg_loss\n",
    "    df['RSI'] = 100 - (100 / (1 + rs))\n",
    "    \n",
    "    # -----------------------------\n",
    "    # MFI Calculation (Money Flow Index)\n",
    "    # -----------------------------\n",
    "    # Typical Price (TP)\n",
    "    tp = (df['High'] + df['Low'] + df['Close']) / 3.0\n",
    "    # Raw Money Flow\n",
    "    mf = tp * df['Volume']\n",
    "    \n",
    "    # Determine positive and negative money flow\n",
    "    tp_diff = tp.diff()\n",
    "    pos_mf = mf.where(tp_diff > 0, 0)\n",
    "    neg_mf = mf.where(tp_diff < 0, 0).abs()\n",
    "    \n",
    "    # Rolling sums for positive and negative money flow\n",
    "    pos_mf_sum = pos_mf.rolling(window=mfi_period, min_periods=mfi_period).sum()\n",
    "    neg_mf_sum = neg_mf.rolling(window=mfi_period, min_periods=mfi_period).sum()\n",
    "    \n",
    "    # MFI calculation\n",
    "    df['MFI'] = 100 - (100 / (1 + (pos_mf_sum / neg_mf_sum)))\n",
    "    \n",
    "    return df"
   ]
  },
  {
   "cell_type": "code",
   "execution_count": 3,
   "metadata": {},
   "outputs": [
    {
     "data": {
      "text/html": [
       "<div>\n",
       "<style scoped>\n",
       "    .dataframe tbody tr th:only-of-type {\n",
       "        vertical-align: middle;\n",
       "    }\n",
       "\n",
       "    .dataframe tbody tr th {\n",
       "        vertical-align: top;\n",
       "    }\n",
       "\n",
       "    .dataframe thead th {\n",
       "        text-align: right;\n",
       "    }\n",
       "</style>\n",
       "<table border=\"1\" class=\"dataframe\">\n",
       "  <thead>\n",
       "    <tr style=\"text-align: right;\">\n",
       "      <th></th>\n",
       "      <th>Date</th>\n",
       "      <th>Open</th>\n",
       "      <th>High</th>\n",
       "      <th>Low</th>\n",
       "      <th>Close</th>\n",
       "      <th>Volume</th>\n",
       "      <th>Close_lag1</th>\n",
       "      <th>SMA_5</th>\n",
       "      <th>SMA_10</th>\n",
       "      <th>Daily_Return</th>\n",
       "      <th>Volatility_5</th>\n",
       "      <th>Range_HL</th>\n",
       "      <th>RSI</th>\n",
       "      <th>MFI</th>\n",
       "    </tr>\n",
       "  </thead>\n",
       "  <tbody>\n",
       "    <tr>\n",
       "      <th>14</th>\n",
       "      <td>2022-02-28 00:00:00-05:00</td>\n",
       "      <td>160.636377</td>\n",
       "      <td>162.961300</td>\n",
       "      <td>160.015736</td>\n",
       "      <td>162.665756</td>\n",
       "      <td>95056600</td>\n",
       "      <td>162.399811</td>\n",
       "      <td>160.991061</td>\n",
       "      <td>164.271565</td>\n",
       "      <td>0.001638</td>\n",
       "      <td>0.018738</td>\n",
       "      <td>2.945564</td>\n",
       "      <td>40.432923</td>\n",
       "      <td>33.114819</td>\n",
       "    </tr>\n",
       "    <tr>\n",
       "      <th>15</th>\n",
       "      <td>2022-03-01 00:00:00-05:00</td>\n",
       "      <td>162.252028</td>\n",
       "      <td>164.123797</td>\n",
       "      <td>159.562608</td>\n",
       "      <td>160.774323</td>\n",
       "      <td>83474400</td>\n",
       "      <td>162.665756</td>\n",
       "      <td>160.770392</td>\n",
       "      <td>163.712006</td>\n",
       "      <td>-0.011628</td>\n",
       "      <td>0.017645</td>\n",
       "      <td>4.561188</td>\n",
       "      <td>32.341290</td>\n",
       "      <td>26.593508</td>\n",
       "    </tr>\n",
       "    <tr>\n",
       "      <th>16</th>\n",
       "      <td>2022-03-02 00:00:00-05:00</td>\n",
       "      <td>161.946606</td>\n",
       "      <td>164.872463</td>\n",
       "      <td>160.528007</td>\n",
       "      <td>164.084351</td>\n",
       "      <td>79724800</td>\n",
       "      <td>160.774323</td>\n",
       "      <td>162.049088</td>\n",
       "      <td>163.098264</td>\n",
       "      <td>0.020588</td>\n",
       "      <td>0.013078</td>\n",
       "      <td>4.344456</td>\n",
       "      <td>36.050371</td>\n",
       "      <td>26.832261</td>\n",
       "    </tr>\n",
       "    <tr>\n",
       "      <th>17</th>\n",
       "      <td>2022-03-03 00:00:00-05:00</td>\n",
       "      <td>165.966020</td>\n",
       "      <td>166.399483</td>\n",
       "      <td>163.089422</td>\n",
       "      <td>163.759308</td>\n",
       "      <td>76678400</td>\n",
       "      <td>164.084351</td>\n",
       "      <td>162.736710</td>\n",
       "      <td>162.475659</td>\n",
       "      <td>-0.001981</td>\n",
       "      <td>0.012655</td>\n",
       "      <td>3.310061</td>\n",
       "      <td>40.503045</td>\n",
       "      <td>33.601292</td>\n",
       "    </tr>\n",
       "    <tr>\n",
       "      <th>18</th>\n",
       "      <td>2022-03-04 00:00:00-05:00</td>\n",
       "      <td>162.045139</td>\n",
       "      <td>163.089381</td>\n",
       "      <td>159.690663</td>\n",
       "      <td>160.744751</td>\n",
       "      <td>83737200</td>\n",
       "      <td>163.759308</td>\n",
       "      <td>162.405698</td>\n",
       "      <td>161.913142</td>\n",
       "      <td>-0.018408</td>\n",
       "      <td>0.014878</td>\n",
       "      <td>3.398719</td>\n",
       "      <td>41.059052</td>\n",
       "      <td>34.122700</td>\n",
       "    </tr>\n",
       "    <tr>\n",
       "      <th>...</th>\n",
       "      <td>...</td>\n",
       "      <td>...</td>\n",
       "      <td>...</td>\n",
       "      <td>...</td>\n",
       "      <td>...</td>\n",
       "      <td>...</td>\n",
       "      <td>...</td>\n",
       "      <td>...</td>\n",
       "      <td>...</td>\n",
       "      <td>...</td>\n",
       "      <td>...</td>\n",
       "      <td>...</td>\n",
       "      <td>...</td>\n",
       "      <td>...</td>\n",
       "    </tr>\n",
       "    <tr>\n",
       "      <th>745</th>\n",
       "      <td>2025-01-28 00:00:00-05:00</td>\n",
       "      <td>230.850006</td>\n",
       "      <td>240.190002</td>\n",
       "      <td>230.809998</td>\n",
       "      <td>238.259995</td>\n",
       "      <td>75707600</td>\n",
       "      <td>229.860001</td>\n",
       "      <td>227.678000</td>\n",
       "      <td>229.041998</td>\n",
       "      <td>0.036544</td>\n",
       "      <td>0.018964</td>\n",
       "      <td>9.380005</td>\n",
       "      <td>43.722049</td>\n",
       "      <td>43.539289</td>\n",
       "    </tr>\n",
       "    <tr>\n",
       "      <th>746</th>\n",
       "      <td>2025-01-29 00:00:00-05:00</td>\n",
       "      <td>234.119995</td>\n",
       "      <td>239.860001</td>\n",
       "      <td>234.009995</td>\n",
       "      <td>239.360001</td>\n",
       "      <td>45486100</td>\n",
       "      <td>238.259995</td>\n",
       "      <td>230.784000</td>\n",
       "      <td>229.649998</td>\n",
       "      <td>0.004617</td>\n",
       "      <td>0.019048</td>\n",
       "      <td>5.850006</td>\n",
       "      <td>47.259082</td>\n",
       "      <td>48.792798</td>\n",
       "    </tr>\n",
       "    <tr>\n",
       "      <th>747</th>\n",
       "      <td>2025-01-30 00:00:00-05:00</td>\n",
       "      <td>238.669998</td>\n",
       "      <td>240.789993</td>\n",
       "      <td>237.210007</td>\n",
       "      <td>237.589996</td>\n",
       "      <td>55658300</td>\n",
       "      <td>239.360001</td>\n",
       "      <td>233.569998</td>\n",
       "      <td>229.621999</td>\n",
       "      <td>-0.007395</td>\n",
       "      <td>0.020480</td>\n",
       "      <td>3.579987</td>\n",
       "      <td>45.203679</td>\n",
       "      <td>54.340699</td>\n",
       "    </tr>\n",
       "    <tr>\n",
       "      <th>748</th>\n",
       "      <td>2025-01-31 00:00:00-05:00</td>\n",
       "      <td>247.190002</td>\n",
       "      <td>247.190002</td>\n",
       "      <td>233.440002</td>\n",
       "      <td>236.000000</td>\n",
       "      <td>101075100</td>\n",
       "      <td>237.589996</td>\n",
       "      <td>236.213998</td>\n",
       "      <td>230.395999</td>\n",
       "      <td>-0.006692</td>\n",
       "      <td>0.021056</td>\n",
       "      <td>13.750000</td>\n",
       "      <td>49.132824</td>\n",
       "      <td>63.275303</td>\n",
       "    </tr>\n",
       "    <tr>\n",
       "      <th>749</th>\n",
       "      <td>2025-02-03 00:00:00-05:00</td>\n",
       "      <td>229.990005</td>\n",
       "      <td>231.830002</td>\n",
       "      <td>225.699997</td>\n",
       "      <td>228.009995</td>\n",
       "      <td>72896300</td>\n",
       "      <td>236.000000</td>\n",
       "      <td>235.843997</td>\n",
       "      <td>230.198999</td>\n",
       "      <td>-0.033856</td>\n",
       "      <td>0.025462</td>\n",
       "      <td>6.130005</td>\n",
       "      <td>44.142989</td>\n",
       "      <td>61.791124</td>\n",
       "    </tr>\n",
       "  </tbody>\n",
       "</table>\n",
       "<p>736 rows × 14 columns</p>\n",
       "</div>"
      ],
      "text/plain": [
       "                         Date        Open        High         Low       Close  \\\n",
       "14  2022-02-28 00:00:00-05:00  160.636377  162.961300  160.015736  162.665756   \n",
       "15  2022-03-01 00:00:00-05:00  162.252028  164.123797  159.562608  160.774323   \n",
       "16  2022-03-02 00:00:00-05:00  161.946606  164.872463  160.528007  164.084351   \n",
       "17  2022-03-03 00:00:00-05:00  165.966020  166.399483  163.089422  163.759308   \n",
       "18  2022-03-04 00:00:00-05:00  162.045139  163.089381  159.690663  160.744751   \n",
       "..                        ...         ...         ...         ...         ...   \n",
       "745 2025-01-28 00:00:00-05:00  230.850006  240.190002  230.809998  238.259995   \n",
       "746 2025-01-29 00:00:00-05:00  234.119995  239.860001  234.009995  239.360001   \n",
       "747 2025-01-30 00:00:00-05:00  238.669998  240.789993  237.210007  237.589996   \n",
       "748 2025-01-31 00:00:00-05:00  247.190002  247.190002  233.440002  236.000000   \n",
       "749 2025-02-03 00:00:00-05:00  229.990005  231.830002  225.699997  228.009995   \n",
       "\n",
       "        Volume  Close_lag1       SMA_5      SMA_10  Daily_Return  \\\n",
       "14    95056600  162.399811  160.991061  164.271565      0.001638   \n",
       "15    83474400  162.665756  160.770392  163.712006     -0.011628   \n",
       "16    79724800  160.774323  162.049088  163.098264      0.020588   \n",
       "17    76678400  164.084351  162.736710  162.475659     -0.001981   \n",
       "18    83737200  163.759308  162.405698  161.913142     -0.018408   \n",
       "..         ...         ...         ...         ...           ...   \n",
       "745   75707600  229.860001  227.678000  229.041998      0.036544   \n",
       "746   45486100  238.259995  230.784000  229.649998      0.004617   \n",
       "747   55658300  239.360001  233.569998  229.621999     -0.007395   \n",
       "748  101075100  237.589996  236.213998  230.395999     -0.006692   \n",
       "749   72896300  236.000000  235.843997  230.198999     -0.033856   \n",
       "\n",
       "     Volatility_5   Range_HL        RSI        MFI  \n",
       "14       0.018738   2.945564  40.432923  33.114819  \n",
       "15       0.017645   4.561188  32.341290  26.593508  \n",
       "16       0.013078   4.344456  36.050371  26.832261  \n",
       "17       0.012655   3.310061  40.503045  33.601292  \n",
       "18       0.014878   3.398719  41.059052  34.122700  \n",
       "..            ...        ...        ...        ...  \n",
       "745      0.018964   9.380005  43.722049  43.539289  \n",
       "746      0.019048   5.850006  47.259082  48.792798  \n",
       "747      0.020480   3.579987  45.203679  54.340699  \n",
       "748      0.021056  13.750000  49.132824  63.275303  \n",
       "749      0.025462   6.130005  44.142989  61.791124  \n",
       "\n",
       "[736 rows x 14 columns]"
      ]
     },
     "execution_count": 3,
     "metadata": {},
     "output_type": "execute_result"
    }
   ],
   "source": [
    "history_with_features = add_features(history)\n",
    "\n",
    "history_with_features.dropna(inplace=True)\n",
    "history_with_features"
   ]
  },
  {
   "cell_type": "code",
   "execution_count": 4,
   "metadata": {},
   "outputs": [
    {
     "name": "stderr",
     "output_type": "stream",
     "text": [
      "c:\\Users\\yusuf\\OneDrive\\Masaüstü\\stockstimate\\stockstimate\\myenv\\Lib\\site-packages\\tqdm\\auto.py:21: TqdmWarning: IProgress not found. Please update jupyter and ipywidgets. See https://ipywidgets.readthedocs.io/en/stable/user_install.html\n",
      "  from .autonotebook import tqdm as notebook_tqdm\n",
      "[I 2025-02-04 09:06:23,152] A new study created in memory with name: no-name-c150100e-3f8f-4e38-8b01-de2be9c9d9b4\n",
      "[I 2025-02-04 09:06:28,357] Trial 0 finished with value: 7.842672296558737 and parameters: {'iterations': 574, 'learning_rate': 0.08561984121141111, 'depth': 7}. Best is trial 0 with value: 7.842672296558737.\n",
      "[I 2025-02-04 09:06:31,883] Trial 1 finished with value: 6.875676781994234 and parameters: {'iterations': 852, 'learning_rate': 0.060190002305152646, 'depth': 5}. Best is trial 1 with value: 6.875676781994234.\n",
      "[I 2025-02-04 09:06:35,137] Trial 2 finished with value: 6.948343634153128 and parameters: {'iterations': 797, 'learning_rate': 0.03995038793603464, 'depth': 5}. Best is trial 1 with value: 6.875676781994234.\n",
      "[I 2025-02-04 09:06:37,160] Trial 3 finished with value: 7.979062062300213 and parameters: {'iterations': 121, 'learning_rate': 0.06528901438134475, 'depth': 8}. Best is trial 1 with value: 6.875676781994234.\n",
      "[I 2025-02-04 09:06:40,884] Trial 4 finished with value: 6.976059214205264 and parameters: {'iterations': 896, 'learning_rate': 0.042660369094993926, 'depth': 5}. Best is trial 1 with value: 6.875676781994234.\n",
      "[I 2025-02-04 09:06:43,088] Trial 5 finished with value: 7.223731859725201 and parameters: {'iterations': 364, 'learning_rate': 0.05110847813954062, 'depth': 6}. Best is trial 1 with value: 6.875676781994234.\n",
      "[I 2025-02-04 09:06:44,097] Trial 6 finished with value: 6.808324770484383 and parameters: {'iterations': 235, 'learning_rate': 0.06699269145938559, 'depth': 5}. Best is trial 6 with value: 6.808324770484383.\n",
      "[I 2025-02-04 09:06:48,825] Trial 7 finished with value: 7.324661429007581 and parameters: {'iterations': 809, 'learning_rate': 0.0691914557626129, 'depth': 6}. Best is trial 6 with value: 6.808324770484383.\n",
      "[I 2025-02-04 09:06:51,925] Trial 8 finished with value: 6.902277768777163 and parameters: {'iterations': 729, 'learning_rate': 0.04332763794472522, 'depth': 5}. Best is trial 6 with value: 6.808324770484383.\n",
      "[I 2025-02-04 09:06:58,457] Trial 9 finished with value: 7.627202273352362 and parameters: {'iterations': 738, 'learning_rate': 0.06064133808563271, 'depth': 7}. Best is trial 6 with value: 6.808324770484383.\n",
      "[I 2025-02-04 09:06:58,919] Trial 10 finished with value: 10.459572854346533 and parameters: {'iterations': 102, 'learning_rate': 0.02176846729044573, 'depth': 4}. Best is trial 6 with value: 6.808324770484383.\n",
      "[I 2025-02-04 09:07:00,207] Trial 11 finished with value: 6.75109753823312 and parameters: {'iterations': 359, 'learning_rate': 0.09412364432092307, 'depth': 4}. Best is trial 11 with value: 6.75109753823312.\n",
      "[I 2025-02-04 09:07:01,313] Trial 12 finished with value: 6.655628669895928 and parameters: {'iterations': 330, 'learning_rate': 0.09866567785128086, 'depth': 4}. Best is trial 12 with value: 6.655628669895928.\n",
      "[I 2025-02-04 09:07:02,679] Trial 13 finished with value: 6.78625473566327 and parameters: {'iterations': 411, 'learning_rate': 0.0995760226182035, 'depth': 4}. Best is trial 12 with value: 6.655628669895928.\n",
      "[I 2025-02-04 09:07:04,131] Trial 14 finished with value: 6.725129283154809 and parameters: {'iterations': 445, 'learning_rate': 0.09780976454825925, 'depth': 4}. Best is trial 12 with value: 6.655628669895928.\n",
      "[I 2025-02-04 09:07:05,934] Trial 15 finished with value: 6.720151506801389 and parameters: {'iterations': 567, 'learning_rate': 0.08491062521511128, 'depth': 4}. Best is trial 12 with value: 6.655628669895928.\n",
      "[I 2025-02-04 09:07:07,850] Trial 16 finished with value: 6.723633969790875 and parameters: {'iterations': 587, 'learning_rate': 0.07986013954308305, 'depth': 4}. Best is trial 12 with value: 6.655628669895928.\n",
      "[I 2025-02-04 09:07:09,342] Trial 17 finished with value: 7.279855366636646 and parameters: {'iterations': 263, 'learning_rate': 0.07811691620903108, 'depth': 6}. Best is trial 12 with value: 6.655628669895928.\n",
      "[I 2025-02-04 09:07:13,885] Trial 18 finished with value: 7.626471402396083 and parameters: {'iterations': 500, 'learning_rate': 0.0889186215853529, 'depth': 7}. Best is trial 12 with value: 6.655628669895928.\n",
      "[I 2025-02-04 09:07:15,904] Trial 19 finished with value: 6.606482417295908 and parameters: {'iterations': 634, 'learning_rate': 0.07626408712032676, 'depth': 4}. Best is trial 19 with value: 6.606482417295908.\n",
      "[I 2025-02-04 09:07:28,648] Trial 20 finished with value: 8.002552855456347 and parameters: {'iterations': 694, 'learning_rate': 0.07435739874921726, 'depth': 8}. Best is trial 19 with value: 6.606482417295908.\n",
      "[I 2025-02-04 09:07:30,697] Trial 21 finished with value: 6.748227909645637 and parameters: {'iterations': 636, 'learning_rate': 0.08559969341589475, 'depth': 4}. Best is trial 19 with value: 6.606482417295908.\n",
      "[I 2025-02-04 09:07:32,356] Trial 22 finished with value: 6.782557890000814 and parameters: {'iterations': 508, 'learning_rate': 0.09016519063956119, 'depth': 4}. Best is trial 19 with value: 6.606482417295908.\n",
      "[I 2025-02-04 09:07:35,171] Trial 23 finished with value: 6.835536561628501 and parameters: {'iterations': 650, 'learning_rate': 0.08103027410928798, 'depth': 5}. Best is trial 19 with value: 6.606482417295908.\n",
      "[I 2025-02-04 09:07:38,200] Trial 24 finished with value: 6.518105375690946 and parameters: {'iterations': 965, 'learning_rate': 0.01181459847301071, 'depth': 4}. Best is trial 24 with value: 6.518105375690946.\n",
      "[I 2025-02-04 09:07:42,152] Trial 25 finished with value: 6.7950710604540205 and parameters: {'iterations': 969, 'learning_rate': 0.012556375771733803, 'depth': 5}. Best is trial 24 with value: 6.518105375690946.\n",
      "[I 2025-02-04 09:07:45,290] Trial 26 finished with value: 6.682719707918855 and parameters: {'iterations': 970, 'learning_rate': 0.03053802318168116, 'depth': 4}. Best is trial 24 with value: 6.518105375690946.\n",
      "[I 2025-02-04 09:07:46,341] Trial 27 finished with value: 9.577197975225031 and parameters: {'iterations': 232, 'learning_rate': 0.011458856712257322, 'depth': 5}. Best is trial 24 with value: 6.518105375690946.\n",
      "[I 2025-02-04 09:07:47,445] Trial 28 finished with value: 6.577659311956315 and parameters: {'iterations': 312, 'learning_rate': 0.05036577842529091, 'depth': 4}. Best is trial 24 with value: 6.518105375690946.\n",
      "[I 2025-02-04 09:07:54,016] Trial 29 finished with value: 7.108251749654597 and parameters: {'iterations': 905, 'learning_rate': 0.033244391582013796, 'depth': 6}. Best is trial 24 with value: 6.518105375690946.\n",
      "[I 2025-02-04 09:07:54,900] Trial 30 finished with value: 6.668252709789617 and parameters: {'iterations': 160, 'learning_rate': 0.05065049766425385, 'depth': 4}. Best is trial 24 with value: 6.518105375690946.\n",
      "[I 2025-02-04 09:07:56,363] Trial 31 finished with value: 6.590096358815471 and parameters: {'iterations': 297, 'learning_rate': 0.02275657461688036, 'depth': 4}. Best is trial 24 with value: 6.518105375690946.\n",
      "[I 2025-02-04 09:07:57,681] Trial 32 finished with value: 6.529025515292455 and parameters: {'iterations': 294, 'learning_rate': 0.027889592736474456, 'depth': 4}. Best is trial 24 with value: 6.518105375690946.\n",
      "[I 2025-02-04 09:07:59,088] Trial 33 finished with value: 7.0700594569383295 and parameters: {'iterations': 306, 'learning_rate': 0.019152536735769318, 'depth': 5}. Best is trial 24 with value: 6.518105375690946.\n",
      "[I 2025-02-04 09:07:59,745] Trial 34 finished with value: 7.197467520798585 and parameters: {'iterations': 180, 'learning_rate': 0.025198151230826943, 'depth': 4}. Best is trial 24 with value: 6.518105375690946.\n",
      "[I 2025-02-04 09:08:01,627] Trial 35 finished with value: 6.91895185624778 and parameters: {'iterations': 417, 'learning_rate': 0.016611046144158592, 'depth': 5}. Best is trial 24 with value: 6.518105375690946.\n",
      "[I 2025-02-04 09:08:03,071] Trial 36 finished with value: 6.835435484289221 and parameters: {'iterations': 312, 'learning_rate': 0.02741997347054585, 'depth': 5}. Best is trial 24 with value: 6.518105375690946.\n",
      "[I 2025-02-04 09:08:03,774] Trial 37 finished with value: 6.666871622299882 and parameters: {'iterations': 184, 'learning_rate': 0.036509461002517125, 'depth': 4}. Best is trial 24 with value: 6.518105375690946.\n",
      "[I 2025-02-04 09:08:04,945] Trial 38 finished with value: 6.979585400676344 and parameters: {'iterations': 254, 'learning_rate': 0.047187725339340604, 'depth': 5}. Best is trial 24 with value: 6.518105375690946.\n",
      "[I 2025-02-04 09:08:07,935] Trial 39 finished with value: 7.181263124353785 and parameters: {'iterations': 472, 'learning_rate': 0.03817245554419713, 'depth': 6}. Best is trial 24 with value: 6.518105375690946.\n",
      "[I 2025-02-04 09:08:09,232] Trial 40 finished with value: 6.64013935964654 and parameters: {'iterations': 372, 'learning_rate': 0.05670445261356757, 'depth': 4}. Best is trial 24 with value: 6.518105375690946.\n",
      "[I 2025-02-04 09:08:12,317] Trial 41 finished with value: 6.535748519691259 and parameters: {'iterations': 900, 'learning_rate': 0.015109550613433796, 'depth': 4}. Best is trial 24 with value: 6.518105375690946.\n",
      "[I 2025-02-04 09:08:16,180] Trial 42 finished with value: 6.496190608013505 and parameters: {'iterations': 916, 'learning_rate': 0.014370710087053698, 'depth': 4}. Best is trial 42 with value: 6.496190608013505.\n",
      "[I 2025-02-04 09:08:20,123] Trial 43 finished with value: 6.527622182062421 and parameters: {'iterations': 899, 'learning_rate': 0.014918157725651, 'depth': 4}. Best is trial 42 with value: 6.496190608013505.\n",
      "[I 2025-02-04 09:08:23,029] Trial 44 finished with value: 6.517369318443221 and parameters: {'iterations': 859, 'learning_rate': 0.014285296978923917, 'depth': 4}. Best is trial 42 with value: 6.496190608013505.\n",
      "[I 2025-02-04 09:08:26,572] Trial 45 finished with value: 6.866685047091759 and parameters: {'iterations': 839, 'learning_rate': 0.010778309227017948, 'depth': 5}. Best is trial 42 with value: 6.496190608013505.\n",
      "[I 2025-02-04 09:08:29,663] Trial 46 finished with value: 6.534598884656771 and parameters: {'iterations': 932, 'learning_rate': 0.017673348985800884, 'depth': 4}. Best is trial 42 with value: 6.496190608013505.\n",
      "[I 2025-02-04 09:08:32,950] Trial 47 finished with value: 6.827394329377188 and parameters: {'iterations': 780, 'learning_rate': 0.021809127347955322, 'depth': 5}. Best is trial 42 with value: 6.496190608013505.\n",
      "[I 2025-02-04 09:08:36,303] Trial 48 finished with value: 6.558124609490937 and parameters: {'iterations': 999, 'learning_rate': 0.02704283271794507, 'depth': 4}. Best is trial 42 with value: 6.496190608013505.\n",
      "[I 2025-02-04 09:08:39,963] Trial 49 finished with value: 6.511376399494347 and parameters: {'iterations': 842, 'learning_rate': 0.01522277297927422, 'depth': 4}. Best is trial 42 with value: 6.496190608013505.\n",
      "[I 2025-02-04 09:08:43,706] Trial 50 finished with value: 6.520591483559073 and parameters: {'iterations': 845, 'learning_rate': 0.01333223401555191, 'depth': 4}. Best is trial 42 with value: 6.496190608013505.\n",
      "[I 2025-02-04 09:08:46,781] Trial 51 finished with value: 6.507639379331403 and parameters: {'iterations': 866, 'learning_rate': 0.01454439757796732, 'depth': 4}. Best is trial 42 with value: 6.496190608013505.\n",
      "[I 2025-02-04 09:08:49,526] Trial 52 finished with value: 6.500367929423294 and parameters: {'iterations': 848, 'learning_rate': 0.020769696045182227, 'depth': 4}. Best is trial 42 with value: 6.496190608013505.\n",
      "[I 2025-02-04 09:08:52,112] Trial 53 finished with value: 6.474438458799571 and parameters: {'iterations': 761, 'learning_rate': 0.02225627762228983, 'depth': 4}. Best is trial 53 with value: 6.474438458799571.\n",
      "[I 2025-02-04 09:08:54,641] Trial 54 finished with value: 6.5772210394650825 and parameters: {'iterations': 777, 'learning_rate': 0.01987007248099916, 'depth': 4}. Best is trial 53 with value: 6.474438458799571.\n",
      "[I 2025-02-04 09:09:10,210] Trial 55 finished with value: 8.077784481614874 and parameters: {'iterations': 816, 'learning_rate': 0.024180539796678457, 'depth': 8}. Best is trial 53 with value: 6.474438458799571.\n",
      "[I 2025-02-04 09:09:12,677] Trial 56 finished with value: 6.621631535374469 and parameters: {'iterations': 742, 'learning_rate': 0.03188070751346492, 'depth': 4}. Best is trial 53 with value: 6.474438458799571.\n",
      "[I 2025-02-04 09:09:20,328] Trial 57 finished with value: 7.6724792519675775 and parameters: {'iterations': 869, 'learning_rate': 0.01918104187786512, 'depth': 7}. Best is trial 53 with value: 6.474438458799571.\n",
      "[I 2025-02-04 09:09:24,039] Trial 58 finished with value: 6.856724730920189 and parameters: {'iterations': 868, 'learning_rate': 0.016138967299024577, 'depth': 5}. Best is trial 53 with value: 6.474438458799571.\n",
      "[I 2025-02-04 09:09:26,988] Trial 59 finished with value: 6.557327690174131 and parameters: {'iterations': 696, 'learning_rate': 0.020287396866923827, 'depth': 4}. Best is trial 53 with value: 6.474438458799571.\n",
      "[I 2025-02-04 09:09:31,348] Trial 60 finished with value: 6.663092827565788 and parameters: {'iterations': 934, 'learning_rate': 0.03554708007846326, 'depth': 4}. Best is trial 53 with value: 6.474438458799571.\n",
      "[I 2025-02-04 09:09:34,671] Trial 61 finished with value: 6.582813639656945 and parameters: {'iterations': 809, 'learning_rate': 0.010085809165272058, 'depth': 4}. Best is trial 53 with value: 6.474438458799571.\n",
      "[I 2025-02-04 09:09:37,651] Trial 62 finished with value: 6.51230180063896 and parameters: {'iterations': 930, 'learning_rate': 0.013580409562567463, 'depth': 4}. Best is trial 53 with value: 6.474438458799571.\n",
      "[I 2025-02-04 09:09:40,604] Trial 63 finished with value: 6.4914854533881865 and parameters: {'iterations': 938, 'learning_rate': 0.014571563871618787, 'depth': 4}. Best is trial 53 with value: 6.474438458799571.\n",
      "[I 2025-02-04 09:09:43,514] Trial 64 finished with value: 6.530423658382368 and parameters: {'iterations': 928, 'learning_rate': 0.023661096304974226, 'depth': 4}. Best is trial 53 with value: 6.474438458799571.\n",
      "[I 2025-02-04 09:09:46,725] Trial 65 finished with value: 6.541114945112777 and parameters: {'iterations': 995, 'learning_rate': 0.01784031168589525, 'depth': 4}. Best is trial 53 with value: 6.474438458799571.\n",
      "[I 2025-02-04 09:09:50,057] Trial 66 finished with value: 6.553881124424289 and parameters: {'iterations': 950, 'learning_rate': 0.02969926454304575, 'depth': 4}. Best is trial 53 with value: 6.474438458799571.\n",
      "[I 2025-02-04 09:09:53,305] Trial 67 finished with value: 6.50836182576051 and parameters: {'iterations': 762, 'learning_rate': 0.013764628023685563, 'depth': 4}. Best is trial 53 with value: 6.474438458799571.\n",
      "[I 2025-02-04 09:09:56,655] Trial 68 finished with value: 6.643477648674102 and parameters: {'iterations': 750, 'learning_rate': 0.042702555479152735, 'depth': 4}. Best is trial 53 with value: 6.474438458799571.\n",
      "[I 2025-02-04 09:09:59,764] Trial 69 finished with value: 6.87159842200756 and parameters: {'iterations': 700, 'learning_rate': 0.022104647236150327, 'depth': 5}. Best is trial 53 with value: 6.474438458799571.\n",
      "[I 2025-02-04 09:10:02,376] Trial 70 finished with value: 6.524043317839218 and parameters: {'iterations': 824, 'learning_rate': 0.025512456722468026, 'depth': 4}. Best is trial 53 with value: 6.474438458799571.\n",
      "[I 2025-02-04 09:10:05,187] Trial 71 finished with value: 6.496398872634529 and parameters: {'iterations': 882, 'learning_rate': 0.013037235454445224, 'depth': 4}. Best is trial 53 with value: 6.474438458799571.\n",
      "[I 2025-02-04 09:10:08,056] Trial 72 finished with value: 6.556060441851774 and parameters: {'iterations': 884, 'learning_rate': 0.016946198209868094, 'depth': 4}. Best is trial 53 with value: 6.474438458799571.\n",
      "[I 2025-02-04 09:10:10,488] Trial 73 finished with value: 6.5361750779664805 and parameters: {'iterations': 774, 'learning_rate': 0.013816617505629944, 'depth': 4}. Best is trial 53 with value: 6.474438458799571.\n",
      "[I 2025-02-04 09:10:13,161] Trial 74 finished with value: 6.568686278526019 and parameters: {'iterations': 795, 'learning_rate': 0.0100037155320476, 'depth': 4}. Best is trial 53 with value: 6.474438458799571.\n",
      "[I 2025-02-04 09:10:16,602] Trial 75 finished with value: 6.518472913192061 and parameters: {'iterations': 840, 'learning_rate': 0.020513349198969785, 'depth': 4}. Best is trial 53 with value: 6.474438458799571.\n",
      "[I 2025-02-04 09:10:19,763] Trial 76 finished with value: 6.703920564385743 and parameters: {'iterations': 716, 'learning_rate': 0.06381732273269095, 'depth': 4}. Best is trial 53 with value: 6.474438458799571.\n",
      "[I 2025-02-04 09:10:22,408] Trial 77 finished with value: 6.504165330620718 and parameters: {'iterations': 664, 'learning_rate': 0.018083891959377946, 'depth': 4}. Best is trial 53 with value: 6.474438458799571.\n",
      "[I 2025-02-04 09:10:24,326] Trial 78 finished with value: 6.4728532065515 and parameters: {'iterations': 592, 'learning_rate': 0.01812917295211098, 'depth': 4}. Best is trial 78 with value: 6.4728532065515.\n",
      "[I 2025-02-04 09:10:26,856] Trial 79 finished with value: 6.854760508018326 and parameters: {'iterations': 604, 'learning_rate': 0.017775249445729276, 'depth': 5}. Best is trial 78 with value: 6.4728532065515.\n",
      "[I 2025-02-04 09:10:28,984] Trial 80 finished with value: 6.567463038856742 and parameters: {'iterations': 644, 'learning_rate': 0.02879043402344173, 'depth': 4}. Best is trial 78 with value: 6.4728532065515.\n",
      "[I 2025-02-04 09:10:30,787] Trial 81 finished with value: 6.430300860038194 and parameters: {'iterations': 557, 'learning_rate': 0.02279780269699377, 'depth': 4}. Best is trial 81 with value: 6.430300860038194.\n",
      "[I 2025-02-04 09:10:32,594] Trial 82 finished with value: 6.43797805479943 and parameters: {'iterations': 557, 'learning_rate': 0.024728019035817568, 'depth': 4}. Best is trial 81 with value: 6.430300860038194.\n",
      "[I 2025-02-04 09:10:34,327] Trial 83 finished with value: 6.531249429778103 and parameters: {'iterations': 539, 'learning_rate': 0.025771941722918825, 'depth': 4}. Best is trial 81 with value: 6.430300860038194.\n",
      "[I 2025-02-04 09:10:36,137] Trial 84 finished with value: 6.475532879993354 and parameters: {'iterations': 545, 'learning_rate': 0.022670213367843892, 'depth': 4}. Best is trial 81 with value: 6.430300860038194.\n",
      "[I 2025-02-04 09:10:38,257] Trial 85 finished with value: 6.456481912730501 and parameters: {'iterations': 553, 'learning_rate': 0.022433727373426988, 'depth': 4}. Best is trial 81 with value: 6.430300860038194.\n",
      "[I 2025-02-04 09:10:41,335] Trial 86 finished with value: 6.8007121224823806 and parameters: {'iterations': 534, 'learning_rate': 0.02379254399001597, 'depth': 5}. Best is trial 81 with value: 6.430300860038194.\n",
      "[I 2025-02-04 09:10:43,887] Trial 87 finished with value: 6.599756039912303 and parameters: {'iterations': 598, 'learning_rate': 0.032915876323503304, 'depth': 4}. Best is trial 81 with value: 6.430300860038194.\n",
      "[I 2025-02-04 09:10:46,156] Trial 88 finished with value: 6.661649441779079 and parameters: {'iterations': 503, 'learning_rate': 0.04016883454481611, 'depth': 4}. Best is trial 81 with value: 6.430300860038194.\n",
      "[I 2025-02-04 09:10:48,027] Trial 89 finished with value: 6.679385588015007 and parameters: {'iterations': 571, 'learning_rate': 0.07136875337756998, 'depth': 4}. Best is trial 81 with value: 6.430300860038194.\n",
      "[I 2025-02-04 09:10:49,545] Trial 90 finished with value: 6.505614869234465 and parameters: {'iterations': 461, 'learning_rate': 0.026675924763496887, 'depth': 4}. Best is trial 81 with value: 6.430300860038194.\n",
      "[I 2025-02-04 09:10:51,278] Trial 91 finished with value: 6.44698389180069 and parameters: {'iterations': 526, 'learning_rate': 0.021612698889471184, 'depth': 4}. Best is trial 81 with value: 6.430300860038194.\n",
      "[I 2025-02-04 09:10:53,019] Trial 92 finished with value: 6.45829154249607 and parameters: {'iterations': 522, 'learning_rate': 0.022508685888739544, 'depth': 4}. Best is trial 81 with value: 6.430300860038194.\n",
      "[I 2025-02-04 09:10:54,749] Trial 93 finished with value: 6.4835542883677775 and parameters: {'iterations': 557, 'learning_rate': 0.02266101412597211, 'depth': 4}. Best is trial 81 with value: 6.430300860038194.\n",
      "[I 2025-02-04 09:10:56,494] Trial 94 finished with value: 6.577850517561063 and parameters: {'iterations': 519, 'learning_rate': 0.031203621921062963, 'depth': 4}. Best is trial 81 with value: 6.430300860038194.\n",
      "[I 2025-02-04 09:10:58,045] Trial 95 finished with value: 6.466387741400244 and parameters: {'iterations': 479, 'learning_rate': 0.02245414570409868, 'depth': 4}. Best is trial 81 with value: 6.430300860038194.\n",
      "[I 2025-02-04 09:10:59,616] Trial 96 finished with value: 6.478141053351938 and parameters: {'iterations': 483, 'learning_rate': 0.02237034791397023, 'depth': 4}. Best is trial 81 with value: 6.430300860038194.\n",
      "[I 2025-02-04 09:11:01,287] Trial 97 finished with value: 6.475508220412593 and parameters: {'iterations': 487, 'learning_rate': 0.028135563892274562, 'depth': 4}. Best is trial 81 with value: 6.430300860038194.\n",
      "[I 2025-02-04 09:11:03,067] Trial 98 finished with value: 6.589428137990097 and parameters: {'iterations': 404, 'learning_rate': 0.034228347281013115, 'depth': 4}. Best is trial 81 with value: 6.430300860038194.\n",
      "[I 2025-02-04 09:11:05,546] Trial 99 finished with value: 6.83463317674028 and parameters: {'iterations': 437, 'learning_rate': 0.02868382148715303, 'depth': 5}. Best is trial 81 with value: 6.430300860038194.\n",
      "[I 2025-02-04 09:11:16,808] Trial 100 finished with value: 8.045932130555538 and parameters: {'iterations': 624, 'learning_rate': 0.024941052400081442, 'depth': 8}. Best is trial 81 with value: 6.430300860038194.\n",
      "[I 2025-02-04 09:11:18,355] Trial 101 finished with value: 6.484388751396237 and parameters: {'iterations': 483, 'learning_rate': 0.021776593771088672, 'depth': 4}. Best is trial 81 with value: 6.430300860038194.\n",
      "[I 2025-02-04 09:11:19,977] Trial 102 finished with value: 6.505657214815081 and parameters: {'iterations': 490, 'learning_rate': 0.027729366956453595, 'depth': 4}. Best is trial 81 with value: 6.430300860038194.\n",
      "[I 2025-02-04 09:11:21,804] Trial 103 finished with value: 6.548681000157686 and parameters: {'iterations': 583, 'learning_rate': 0.03036666193678638, 'depth': 4}. Best is trial 81 with value: 6.430300860038194.\n",
      "[I 2025-02-04 09:11:23,475] Trial 104 finished with value: 6.489772490178486 and parameters: {'iterations': 522, 'learning_rate': 0.01958066654549913, 'depth': 4}. Best is trial 81 with value: 6.430300860038194.\n",
      "[I 2025-02-04 09:11:25,384] Trial 105 finished with value: 6.505458419512958 and parameters: {'iterations': 552, 'learning_rate': 0.02431068013385109, 'depth': 4}. Best is trial 81 with value: 6.430300860038194.\n",
      "[I 2025-02-04 09:11:28,061] Trial 106 finished with value: 7.136370121321113 and parameters: {'iterations': 456, 'learning_rate': 0.021689833135122467, 'depth': 6}. Best is trial 81 with value: 6.430300860038194.\n",
      "[I 2025-02-04 09:11:29,464] Trial 107 finished with value: 6.469883156877863 and parameters: {'iterations': 426, 'learning_rate': 0.026710338836327438, 'depth': 4}. Best is trial 81 with value: 6.430300860038194.\n",
      "[I 2025-02-04 09:11:30,825] Trial 108 finished with value: 6.488418422676633 and parameters: {'iterations': 432, 'learning_rate': 0.027352982184706, 'depth': 4}. Best is trial 81 with value: 6.430300860038194.\n",
      "[I 2025-02-04 09:11:32,512] Trial 109 finished with value: 6.550070565224624 and parameters: {'iterations': 519, 'learning_rate': 0.02565308928554986, 'depth': 4}. Best is trial 81 with value: 6.430300860038194.\n",
      "[I 2025-02-04 09:11:33,810] Trial 110 finished with value: 6.594395563240454 and parameters: {'iterations': 390, 'learning_rate': 0.018828179881091065, 'depth': 4}. Best is trial 81 with value: 6.430300860038194.\n",
      "[I 2025-02-04 09:11:35,920] Trial 111 finished with value: 6.478438708299436 and parameters: {'iterations': 475, 'learning_rate': 0.022890423287407563, 'depth': 4}. Best is trial 81 with value: 6.430300860038194.\n",
      "[I 2025-02-04 09:11:37,572] Trial 112 finished with value: 6.517174746764567 and parameters: {'iterations': 345, 'learning_rate': 0.02335965471596439, 'depth': 4}. Best is trial 81 with value: 6.430300860038194.\n",
      "[I 2025-02-04 09:11:39,956] Trial 113 finished with value: 6.478943756674798 and parameters: {'iterations': 495, 'learning_rate': 0.02102291418386136, 'depth': 4}. Best is trial 81 with value: 6.430300860038194.\n",
      "[I 2025-02-04 09:11:42,721] Trial 114 finished with value: 6.534057629937427 and parameters: {'iterations': 538, 'learning_rate': 0.029132083498188632, 'depth': 4}. Best is trial 81 with value: 6.430300860038194.\n",
      "[I 2025-02-04 09:11:45,310] Trial 115 finished with value: 6.538734621681388 and parameters: {'iterations': 604, 'learning_rate': 0.01633725824849159, 'depth': 4}. Best is trial 81 with value: 6.430300860038194.\n",
      "[I 2025-02-04 09:11:47,361] Trial 116 finished with value: 6.568086291428355 and parameters: {'iterations': 567, 'learning_rate': 0.04544259855715584, 'depth': 4}. Best is trial 81 with value: 6.430300860038194.\n",
      "[I 2025-02-04 09:11:51,416] Trial 117 finished with value: 7.588224349910772 and parameters: {'iterations': 459, 'learning_rate': 0.025662405998768015, 'depth': 7}. Best is trial 81 with value: 6.430300860038194.\n",
      "[I 2025-02-04 09:11:53,450] Trial 118 finished with value: 6.535213945324597 and parameters: {'iterations': 622, 'learning_rate': 0.019630916123352382, 'depth': 4}. Best is trial 81 with value: 6.430300860038194.\n",
      "[I 2025-02-04 09:11:55,663] Trial 119 finished with value: 6.581169744217476 and parameters: {'iterations': 665, 'learning_rate': 0.03069708653738993, 'depth': 4}. Best is trial 81 with value: 6.430300860038194.\n",
      "[I 2025-02-04 09:11:57,373] Trial 120 finished with value: 6.579992830664125 and parameters: {'iterations': 508, 'learning_rate': 0.03250961688292649, 'depth': 4}. Best is trial 81 with value: 6.430300860038194.\n",
      "[I 2025-02-04 09:11:59,326] Trial 121 finished with value: 6.4213128788962575 and parameters: {'iterations': 474, 'learning_rate': 0.023180664973959708, 'depth': 4}. Best is trial 121 with value: 6.4213128788962575.\n",
      "[I 2025-02-04 09:12:01,251] Trial 122 finished with value: 6.429830941834128 and parameters: {'iterations': 445, 'learning_rate': 0.023520312445041047, 'depth': 4}. Best is trial 121 with value: 6.4213128788962575.\n",
      "[I 2025-02-04 09:12:03,129] Trial 123 finished with value: 6.483224469309536 and parameters: {'iterations': 423, 'learning_rate': 0.02654171265873511, 'depth': 4}. Best is trial 121 with value: 6.4213128788962575.\n",
      "[I 2025-02-04 09:12:05,166] Trial 124 finished with value: 6.435752381006438 and parameters: {'iterations': 448, 'learning_rate': 0.02395790198634058, 'depth': 4}. Best is trial 121 with value: 6.4213128788962575.\n",
      "[I 2025-02-04 09:12:06,784] Trial 125 finished with value: 6.46028661671326 and parameters: {'iterations': 389, 'learning_rate': 0.024583549108951167, 'depth': 4}. Best is trial 121 with value: 6.4213128788962575.\n",
      "[I 2025-02-04 09:12:08,140] Trial 126 finished with value: 6.454165916965155 and parameters: {'iterations': 380, 'learning_rate': 0.02443007308672305, 'depth': 4}. Best is trial 121 with value: 6.4213128788962575.\n",
      "[I 2025-02-04 09:12:09,449] Trial 127 finished with value: 6.446310143789653 and parameters: {'iterations': 390, 'learning_rate': 0.024099361290500335, 'depth': 4}. Best is trial 121 with value: 6.4213128788962575.\n",
      "[I 2025-02-04 09:12:10,717] Trial 128 finished with value: 6.465198515910025 and parameters: {'iterations': 389, 'learning_rate': 0.023961122489743678, 'depth': 4}. Best is trial 121 with value: 6.4213128788962575.\n",
      "[I 2025-02-04 09:12:12,046] Trial 129 finished with value: 6.440404692881171 and parameters: {'iterations': 388, 'learning_rate': 0.024709364623528608, 'depth': 4}. Best is trial 121 with value: 6.4213128788962575.\n",
      "[I 2025-02-04 09:12:13,270] Trial 130 finished with value: 6.453138192205907 and parameters: {'iterations': 371, 'learning_rate': 0.025066471251428468, 'depth': 4}. Best is trial 121 with value: 6.4213128788962575.\n",
      "[I 2025-02-04 09:12:14,506] Trial 131 finished with value: 6.489174586165383 and parameters: {'iterations': 380, 'learning_rate': 0.024239465613094868, 'depth': 4}. Best is trial 121 with value: 6.4213128788962575.\n",
      "[I 2025-02-04 09:12:15,677] Trial 132 finished with value: 6.583558238578638 and parameters: {'iterations': 354, 'learning_rate': 0.053844492839237854, 'depth': 4}. Best is trial 121 with value: 6.4213128788962575.\n",
      "[I 2025-02-04 09:12:17,042] Trial 133 finished with value: 6.549396131077337 and parameters: {'iterations': 410, 'learning_rate': 0.020363168113135294, 'depth': 4}. Best is trial 121 with value: 6.4213128788962575.\n",
      "[I 2025-02-04 09:12:18,318] Trial 134 finished with value: 6.513841538991689 and parameters: {'iterations': 386, 'learning_rate': 0.02946529849052045, 'depth': 4}. Best is trial 121 with value: 6.4213128788962575.\n",
      "[I 2025-02-04 09:12:19,492] Trial 135 finished with value: 6.4690996753577865 and parameters: {'iterations': 328, 'learning_rate': 0.024810869597139833, 'depth': 4}. Best is trial 121 with value: 6.4213128788962575.\n",
      "[I 2025-02-04 09:12:20,728] Trial 136 finished with value: 6.549958151474273 and parameters: {'iterations': 359, 'learning_rate': 0.035205915025414466, 'depth': 4}. Best is trial 121 with value: 6.4213128788962575.\n",
      "[I 2025-02-04 09:12:22,139] Trial 137 finished with value: 6.421175564495934 and parameters: {'iterations': 397, 'learning_rate': 0.025112956053457935, 'depth': 4}. Best is trial 137 with value: 6.421175564495934.\n",
      "[I 2025-02-04 09:12:23,573] Trial 138 finished with value: 6.455585447742361 and parameters: {'iterations': 334, 'learning_rate': 0.02601014909908531, 'depth': 4}. Best is trial 137 with value: 6.421175564495934.\n",
      "[I 2025-02-04 09:12:25,079] Trial 139 finished with value: 6.600501478667892 and parameters: {'iterations': 333, 'learning_rate': 0.02104266534475984, 'depth': 4}. Best is trial 137 with value: 6.421175564495934.\n",
      "[I 2025-02-04 09:12:27,023] Trial 140 finished with value: 6.58693279434487 and parameters: {'iterations': 446, 'learning_rate': 0.03793955008600306, 'depth': 4}. Best is trial 137 with value: 6.421175564495934.\n",
      "[I 2025-02-04 09:12:28,766] Trial 141 finished with value: 6.478971239413177 and parameters: {'iterations': 370, 'learning_rate': 0.026366074910111968, 'depth': 4}. Best is trial 137 with value: 6.421175564495934.\n",
      "[I 2025-02-04 09:12:30,638] Trial 142 finished with value: 6.445371972179314 and parameters: {'iterations': 394, 'learning_rate': 0.02482336668379107, 'depth': 4}. Best is trial 137 with value: 6.421175564495934.\n",
      "[I 2025-02-04 09:12:31,994] Trial 143 finished with value: 6.540008106378172 and parameters: {'iterations': 406, 'learning_rate': 0.02026576744360391, 'depth': 4}. Best is trial 137 with value: 6.421175564495934.\n",
      "[I 2025-02-04 09:12:32,983] Trial 144 finished with value: 6.564789292002014 and parameters: {'iterations': 282, 'learning_rate': 0.027538310750888008, 'depth': 4}. Best is trial 137 with value: 6.421175564495934.\n",
      "[I 2025-02-04 09:12:34,053] Trial 145 finished with value: 6.5369598393300565 and parameters: {'iterations': 327, 'learning_rate': 0.030864179637323724, 'depth': 4}. Best is trial 137 with value: 6.421175564495934.\n",
      "[I 2025-02-04 09:12:35,520] Trial 146 finished with value: 6.512493370093836 and parameters: {'iterations': 446, 'learning_rate': 0.018278953902826366, 'depth': 4}. Best is trial 137 with value: 6.421175564495934.\n",
      "[I 2025-02-04 09:12:36,699] Trial 147 finished with value: 6.521405050162909 and parameters: {'iterations': 343, 'learning_rate': 0.02851065411301512, 'depth': 4}. Best is trial 137 with value: 6.421175564495934.\n",
      "[I 2025-02-04 09:12:37,907] Trial 148 finished with value: 6.495146391586731 and parameters: {'iterations': 365, 'learning_rate': 0.025673684251655098, 'depth': 4}. Best is trial 137 with value: 6.421175564495934.\n",
      "[I 2025-02-04 09:12:39,252] Trial 149 finished with value: 6.471518458976625 and parameters: {'iterations': 414, 'learning_rate': 0.02332569124825343, 'depth': 4}. Best is trial 137 with value: 6.421175564495934.\n",
      "[I 2025-02-04 09:12:40,645] Trial 150 finished with value: 6.484458691588901 and parameters: {'iterations': 395, 'learning_rate': 0.021335329470082258, 'depth': 4}. Best is trial 137 with value: 6.421175564495934.\n",
      "[I 2025-02-04 09:12:41,911] Trial 151 finished with value: 6.4654292646655165 and parameters: {'iterations': 376, 'learning_rate': 0.024675886252394107, 'depth': 4}. Best is trial 137 with value: 6.421175564495934.\n",
      "[I 2025-02-04 09:12:43,352] Trial 152 finished with value: 6.430852142548732 and parameters: {'iterations': 435, 'learning_rate': 0.023926397934080527, 'depth': 4}. Best is trial 137 with value: 6.421175564495934.\n",
      "[I 2025-02-04 09:12:44,806] Trial 153 finished with value: 6.495495746541356 and parameters: {'iterations': 434, 'learning_rate': 0.019097961511679494, 'depth': 4}. Best is trial 137 with value: 6.421175564495934.\n",
      "[I 2025-02-04 09:12:46,313] Trial 154 finished with value: 6.4764119988740365 and parameters: {'iterations': 466, 'learning_rate': 0.02299880104893025, 'depth': 4}. Best is trial 137 with value: 6.421175564495934.\n",
      "[I 2025-02-04 09:12:47,683] Trial 155 finished with value: 6.449087200742566 and parameters: {'iterations': 418, 'learning_rate': 0.02722322902031177, 'depth': 4}. Best is trial 137 with value: 6.421175564495934.\n",
      "[I 2025-02-04 09:12:49,094] Trial 156 finished with value: 6.4770600599288 and parameters: {'iterations': 417, 'learning_rate': 0.02699269643356449, 'depth': 4}. Best is trial 137 with value: 6.421175564495934.\n",
      "[I 2025-02-04 09:12:50,507] Trial 157 finished with value: 6.545897363427287 and parameters: {'iterations': 443, 'learning_rate': 0.029860204368458168, 'depth': 4}. Best is trial 137 with value: 6.421175564495934.\n",
      "[I 2025-02-04 09:12:51,925] Trial 158 finished with value: 6.637626030463736 and parameters: {'iterations': 401, 'learning_rate': 0.01653776713948026, 'depth': 4}. Best is trial 137 with value: 6.421175564495934.\n",
      "[I 2025-02-04 09:12:53,001] Trial 159 finished with value: 6.472314283293121 and parameters: {'iterations': 307, 'learning_rate': 0.025758233514287708, 'depth': 4}. Best is trial 137 with value: 6.421175564495934.\n",
      "[I 2025-02-04 09:12:54,195] Trial 160 finished with value: 6.530367930189671 and parameters: {'iterations': 363, 'learning_rate': 0.027987379095854237, 'depth': 4}. Best is trial 137 with value: 6.421175564495934.\n",
      "[I 2025-02-04 09:12:56,208] Trial 161 finished with value: 6.506491537338432 and parameters: {'iterations': 523, 'learning_rate': 0.021400952043720653, 'depth': 4}. Best is trial 137 with value: 6.421175564495934.\n",
      "[I 2025-02-04 09:12:58,601] Trial 162 finished with value: 6.484481131781978 and parameters: {'iterations': 566, 'learning_rate': 0.023651286843655913, 'depth': 4}. Best is trial 137 with value: 6.421175564495934.\n",
      "[I 2025-02-04 09:13:00,534] Trial 163 finished with value: 6.483101182781317 and parameters: {'iterations': 424, 'learning_rate': 0.022394116188301397, 'depth': 4}. Best is trial 137 with value: 6.421175564495934.\n",
      "[I 2025-02-04 09:13:02,584] Trial 164 finished with value: 6.4602130672952764 and parameters: {'iterations': 448, 'learning_rate': 0.02468997194513469, 'depth': 4}. Best is trial 137 with value: 6.421175564495934.\n",
      "[I 2025-02-04 09:13:04,751] Trial 165 finished with value: 6.505276286704273 and parameters: {'iterations': 544, 'learning_rate': 0.019688528645563357, 'depth': 4}. Best is trial 137 with value: 6.421175564495934.\n",
      "[I 2025-02-04 09:13:05,924] Trial 166 finished with value: 6.563419266914295 and parameters: {'iterations': 346, 'learning_rate': 0.03231769213042518, 'depth': 4}. Best is trial 137 with value: 6.421175564495934.\n",
      "[I 2025-02-04 09:13:07,627] Trial 167 finished with value: 6.5024543491704225 and parameters: {'iterations': 514, 'learning_rate': 0.026643872711852246, 'depth': 4}. Best is trial 137 with value: 6.421175564495934.\n",
      "[I 2025-02-04 09:13:09,325] Trial 168 finished with value: 6.500631769073318 and parameters: {'iterations': 498, 'learning_rate': 0.028424979647175545, 'depth': 4}. Best is trial 137 with value: 6.421175564495934.\n",
      "[I 2025-02-04 09:13:10,787] Trial 169 finished with value: 6.462483630228361 and parameters: {'iterations': 466, 'learning_rate': 0.020782321305624837, 'depth': 4}. Best is trial 137 with value: 6.421175564495934.\n",
      "[I 2025-02-04 09:13:12,019] Trial 170 finished with value: 6.495578495789879 and parameters: {'iterations': 372, 'learning_rate': 0.022959400040142172, 'depth': 4}. Best is trial 137 with value: 6.421175564495934.\n",
      "[I 2025-02-04 09:13:13,552] Trial 171 finished with value: 6.4563693778942906 and parameters: {'iterations': 449, 'learning_rate': 0.02504915849075904, 'depth': 4}. Best is trial 137 with value: 6.421175564495934.\n",
      "[I 2025-02-04 09:13:14,935] Trial 172 finished with value: 6.4990925639361645 and parameters: {'iterations': 417, 'learning_rate': 0.025033777405306417, 'depth': 4}. Best is trial 137 with value: 6.421175564495934.\n",
      "[I 2025-02-04 09:13:16,276] Trial 173 finished with value: 6.517527813648252 and parameters: {'iterations': 397, 'learning_rate': 0.02623582975068907, 'depth': 4}. Best is trial 137 with value: 6.421175564495934.\n",
      "[I 2025-02-04 09:13:17,712] Trial 174 finished with value: 6.418307340806829 and parameters: {'iterations': 435, 'learning_rate': 0.023733654061161666, 'depth': 4}. Best is trial 174 with value: 6.418307340806829.\n",
      "[I 2025-02-04 09:13:19,449] Trial 175 finished with value: 6.436748062615001 and parameters: {'iterations': 431, 'learning_rate': 0.024097521307220704, 'depth': 4}. Best is trial 174 with value: 6.418307340806829.\n",
      "[I 2025-02-04 09:13:21,338] Trial 176 finished with value: 6.503422277049225 and parameters: {'iterations': 430, 'learning_rate': 0.02934458210143975, 'depth': 4}. Best is trial 174 with value: 6.418307340806829.\n",
      "[I 2025-02-04 09:13:23,367] Trial 177 finished with value: 6.407442840414269 and parameters: {'iterations': 459, 'learning_rate': 0.024498638410993784, 'depth': 4}. Best is trial 177 with value: 6.407442840414269.\n",
      "[I 2025-02-04 09:13:25,597] Trial 178 finished with value: 6.463961443875641 and parameters: {'iterations': 473, 'learning_rate': 0.027224978995184283, 'depth': 4}. Best is trial 177 with value: 6.407442840414269.\n",
      "[I 2025-02-04 09:13:28,367] Trial 179 finished with value: 7.178708472009646 and parameters: {'iterations': 405, 'learning_rate': 0.023926083107798566, 'depth': 6}. Best is trial 177 with value: 6.407442840414269.\n",
      "[I 2025-02-04 09:13:29,636] Trial 180 finished with value: 6.615129223083687 and parameters: {'iterations': 381, 'learning_rate': 0.017929391090799916, 'depth': 4}. Best is trial 177 with value: 6.407442840414269.\n",
      "[I 2025-02-04 09:13:31,109] Trial 181 finished with value: 6.47502653350698 and parameters: {'iterations': 456, 'learning_rate': 0.024869073821491, 'depth': 4}. Best is trial 177 with value: 6.407442840414269.\n",
      "[I 2025-02-04 09:13:32,548] Trial 182 finished with value: 6.510214416179873 and parameters: {'iterations': 426, 'learning_rate': 0.02126814003055516, 'depth': 4}. Best is trial 177 with value: 6.407442840414269.\n",
      "[I 2025-02-04 09:13:33,969] Trial 183 finished with value: 6.533625122930222 and parameters: {'iterations': 440, 'learning_rate': 0.02607895324737415, 'depth': 4}. Best is trial 177 with value: 6.407442840414269.\n",
      "[I 2025-02-04 09:13:35,446] Trial 184 finished with value: 6.435862780526767 and parameters: {'iterations': 449, 'learning_rate': 0.0238655853255839, 'depth': 4}. Best is trial 177 with value: 6.407442840414269.\n",
      "[I 2025-02-04 09:13:36,871] Trial 185 finished with value: 6.482137353059974 and parameters: {'iterations': 406, 'learning_rate': 0.022702129155925923, 'depth': 4}. Best is trial 177 with value: 6.407442840414269.\n",
      "[I 2025-02-04 09:13:38,370] Trial 186 finished with value: 6.57506997670134 and parameters: {'iterations': 470, 'learning_rate': 0.019926931844115366, 'depth': 4}. Best is trial 177 with value: 6.407442840414269.\n",
      "[I 2025-02-04 09:13:39,880] Trial 187 finished with value: 6.490162422124155 and parameters: {'iterations': 432, 'learning_rate': 0.027862565158987027, 'depth': 4}. Best is trial 177 with value: 6.407442840414269.\n",
      "[I 2025-02-04 09:13:41,213] Trial 188 finished with value: 6.454633415300533 and parameters: {'iterations': 384, 'learning_rate': 0.02342602521930822, 'depth': 4}. Best is trial 177 with value: 6.407442840414269.\n",
      "[I 2025-02-04 09:13:42,564] Trial 189 finished with value: 6.468473562313467 and parameters: {'iterations': 384, 'learning_rate': 0.0230580575376653, 'depth': 4}. Best is trial 177 with value: 6.407442840414269.\n",
      "[I 2025-02-04 09:13:44,274] Trial 190 finished with value: 6.49739932598812 and parameters: {'iterations': 411, 'learning_rate': 0.02099801663481456, 'depth': 4}. Best is trial 177 with value: 6.407442840414269.\n",
      "[I 2025-02-04 09:13:45,881] Trial 191 finished with value: 6.480751358199223 and parameters: {'iterations': 357, 'learning_rate': 0.024445614816498155, 'depth': 4}. Best is trial 177 with value: 6.407442840414269.\n",
      "[I 2025-02-04 09:13:47,791] Trial 192 finished with value: 6.475039272752947 and parameters: {'iterations': 395, 'learning_rate': 0.026751912843009304, 'depth': 4}. Best is trial 177 with value: 6.407442840414269.\n",
      "[I 2025-02-04 09:13:49,362] Trial 193 finished with value: 6.533158546353294 and parameters: {'iterations': 329, 'learning_rate': 0.023648125826013004, 'depth': 4}. Best is trial 177 with value: 6.407442840414269.\n",
      "[I 2025-02-04 09:13:51,482] Trial 194 finished with value: 6.565314209540294 and parameters: {'iterations': 452, 'learning_rate': 0.058545445851864164, 'depth': 4}. Best is trial 177 with value: 6.407442840414269.\n",
      "[I 2025-02-04 09:13:52,744] Trial 195 finished with value: 6.526518755368483 and parameters: {'iterations': 373, 'learning_rate': 0.021711417585682756, 'depth': 4}. Best is trial 177 with value: 6.407442840414269.\n",
      "[I 2025-02-04 09:13:54,427] Trial 196 finished with value: 6.46152200238406 and parameters: {'iterations': 491, 'learning_rate': 0.025884237781062126, 'depth': 4}. Best is trial 177 with value: 6.407442840414269.\n",
      "[I 2025-02-04 09:13:55,806] Trial 197 finished with value: 6.457847970768282 and parameters: {'iterations': 422, 'learning_rate': 0.029723382212135115, 'depth': 4}. Best is trial 177 with value: 6.407442840414269.\n",
      "[I 2025-02-04 09:13:57,038] Trial 198 finished with value: 6.664916579543991 and parameters: {'iterations': 348, 'learning_rate': 0.01869056920066863, 'depth': 4}. Best is trial 177 with value: 6.407442840414269.\n",
      "[I 2025-02-04 09:13:58,615] Trial 199 finished with value: 6.406389627486642 and parameters: {'iterations': 438, 'learning_rate': 0.023732718931410737, 'depth': 4}. Best is trial 199 with value: 6.406389627486642.\n"
     ]
    },
    {
     "name": "stdout",
     "output_type": "stream",
     "text": [
      "Best Hyperparameters: {'iterations': 438, 'learning_rate': 0.023732718931410737, 'depth': 4}\n",
      "Best CV Score (MAE): 6.406389627486642\n"
     ]
    }
   ],
   "source": [
    "import optuna\n",
    "import numpy as np\n",
    "from catboost import CatBoostRegressor\n",
    "from sklearn.model_selection import TimeSeriesSplit\n",
    "from sklearn.metrics import mean_absolute_error\n",
    "\n",
    "df = history_with_features.copy()\n",
    "df['Target'] = df['Close'].shift(-1)\n",
    "\n",
    "df.dropna(inplace=True)\n",
    "df.reset_index(drop=True, inplace=True)\n",
    "\n",
    "feature_cols = [\n",
    "    'Open', 'High', 'Low', 'Close', 'Volume',\n",
    "    'Close_lag1', 'SMA_5', 'SMA_10', 'Daily_Return',\n",
    "    'Volatility_5', 'Range_HL', 'RSI', 'MFI'\n",
    "]\n",
    "\n",
    "X = df[feature_cols]\n",
    "y = df['Target']\n",
    "\n",
    "tscv = TimeSeriesSplit(n_splits=5)\n",
    "\n",
    "def objective(trial):\n",
    "    \"\"\"\n",
    "    Objective function for Optuna to optimize CatBoostRegressor hyperparameters.\n",
    "    \"\"\"\n",
    "    iterations = trial.suggest_int(\"iterations\", 100, 1000)\n",
    "    learning_rate = trial.suggest_float(\"learning_rate\", 0.01, 0.1)\n",
    "    depth = trial.suggest_int(\"depth\", 4, 8)\n",
    "\n",
    "    model = CatBoostRegressor(\n",
    "        iterations=iterations,\n",
    "        learning_rate=learning_rate,\n",
    "        depth=depth,\n",
    "        random_seed=42,\n",
    "        verbose=0\n",
    "    )\n",
    "\n",
    "    maes = []\n",
    "    for train_idx, val_idx in tscv.split(X):\n",
    "        X_train, X_val = X.iloc[train_idx], X.iloc[val_idx]\n",
    "        y_train, y_val = y.iloc[train_idx], y.iloc[val_idx]\n",
    "        \n",
    "        model.fit(X_train, y_train)\n",
    "        y_pred = model.predict(X_val)\n",
    "        \n",
    "        mae = mean_absolute_error(y_val, y_pred)\n",
    "        maes.append(mae)\n",
    "    \n",
    "    return np.mean(maes)  # Minimize MAE\n",
    "\n",
    "study = optuna.create_study(direction=\"minimize\")  \n",
    "study.optimize(objective, n_trials=200)\n",
    "\n",
    "best_params = study.best_params\n",
    "print(\"Best Hyperparameters:\", best_params)\n",
    "print(\"Best CV Score (MAE):\", study.best_value)\n"
   ]
  },
  {
   "cell_type": "code",
   "execution_count": 6,
   "metadata": {},
   "outputs": [
    {
     "name": "stdout",
     "output_type": "stream",
     "text": [
      "Using Best Hyperparameters for Forecasting:\n",
      "{'iterations': 438, 'learning_rate': 0.023732718931410737, 'depth': 4}\n",
      "Test MAE:  21.0467\n",
      "Test RMSE: 23.1973\n"
     ]
    }
   ],
   "source": [
    "import numpy as np\n",
    "from sklearn.metrics import mean_absolute_error, mean_squared_error\n",
    "\n",
    "train_size = int(0.8 * len(X))\n",
    "X_train = X.iloc[:train_size]\n",
    "y_train = y.iloc[:train_size]\n",
    "X_test  = X.iloc[train_size:]\n",
    "y_test  = y.iloc[train_size:]\n",
    "\n",
    "print(\"Using Best Hyperparameters for Forecasting:\")\n",
    "print(best_params)\n",
    "\n",
    "best_model = CatBoostRegressor(**best_params, random_seed=42, verbose=0)\n",
    "best_model.fit(X_train, y_train)\n",
    "\n",
    "y_pred = best_model.predict(X_test)\n",
    "\n",
    "\n",
    "mae_value  = mean_absolute_error(y_test, y_pred)\n",
    "mse_value  = mean_squared_error(y_test, y_pred)\n",
    "rmse_value = np.sqrt(mse_value)\n",
    "print(f\"Test MAE:  {mae_value:.4f}\")\n",
    "print(f\"Test RMSE: {rmse_value:.4f}\")\n",
    "\n"
   ]
  },
  {
   "cell_type": "code",
   "execution_count": 7,
   "metadata": {},
   "outputs": [
    {
     "data": {
      "application/vnd.plotly.v1+json": {
       "config": {
        "plotlyServerURL": "https://plot.ly"
       },
       "data": [
        {
         "mode": "lines",
         "name": "Actual",
         "type": "scatter",
         "x": [
          "2024-07-02T00:00:00-04:00",
          "2024-07-03T00:00:00-04:00",
          "2024-07-05T00:00:00-04:00",
          "2024-07-08T00:00:00-04:00",
          "2024-07-09T00:00:00-04:00",
          "2024-07-10T00:00:00-04:00",
          "2024-07-11T00:00:00-04:00",
          "2024-07-12T00:00:00-04:00",
          "2024-07-15T00:00:00-04:00",
          "2024-07-16T00:00:00-04:00",
          "2024-07-17T00:00:00-04:00",
          "2024-07-18T00:00:00-04:00",
          "2024-07-19T00:00:00-04:00",
          "2024-07-22T00:00:00-04:00",
          "2024-07-23T00:00:00-04:00",
          "2024-07-24T00:00:00-04:00",
          "2024-07-25T00:00:00-04:00",
          "2024-07-26T00:00:00-04:00",
          "2024-07-29T00:00:00-04:00",
          "2024-07-30T00:00:00-04:00",
          "2024-07-31T00:00:00-04:00",
          "2024-08-01T00:00:00-04:00",
          "2024-08-02T00:00:00-04:00",
          "2024-08-05T00:00:00-04:00",
          "2024-08-06T00:00:00-04:00",
          "2024-08-07T00:00:00-04:00",
          "2024-08-08T00:00:00-04:00",
          "2024-08-09T00:00:00-04:00",
          "2024-08-12T00:00:00-04:00",
          "2024-08-13T00:00:00-04:00",
          "2024-08-14T00:00:00-04:00",
          "2024-08-15T00:00:00-04:00",
          "2024-08-16T00:00:00-04:00",
          "2024-08-19T00:00:00-04:00",
          "2024-08-20T00:00:00-04:00",
          "2024-08-21T00:00:00-04:00",
          "2024-08-22T00:00:00-04:00",
          "2024-08-23T00:00:00-04:00",
          "2024-08-26T00:00:00-04:00",
          "2024-08-27T00:00:00-04:00",
          "2024-08-28T00:00:00-04:00",
          "2024-08-29T00:00:00-04:00",
          "2024-08-30T00:00:00-04:00",
          "2024-09-03T00:00:00-04:00",
          "2024-09-04T00:00:00-04:00",
          "2024-09-05T00:00:00-04:00",
          "2024-09-06T00:00:00-04:00",
          "2024-09-09T00:00:00-04:00",
          "2024-09-10T00:00:00-04:00",
          "2024-09-11T00:00:00-04:00",
          "2024-09-12T00:00:00-04:00",
          "2024-09-13T00:00:00-04:00",
          "2024-09-16T00:00:00-04:00",
          "2024-09-17T00:00:00-04:00",
          "2024-09-18T00:00:00-04:00",
          "2024-09-19T00:00:00-04:00",
          "2024-09-20T00:00:00-04:00",
          "2024-09-23T00:00:00-04:00",
          "2024-09-24T00:00:00-04:00",
          "2024-09-25T00:00:00-04:00",
          "2024-09-26T00:00:00-04:00",
          "2024-09-27T00:00:00-04:00",
          "2024-09-30T00:00:00-04:00",
          "2024-10-01T00:00:00-04:00",
          "2024-10-02T00:00:00-04:00",
          "2024-10-03T00:00:00-04:00",
          "2024-10-04T00:00:00-04:00",
          "2024-10-07T00:00:00-04:00",
          "2024-10-08T00:00:00-04:00",
          "2024-10-09T00:00:00-04:00",
          "2024-10-10T00:00:00-04:00",
          "2024-10-11T00:00:00-04:00",
          "2024-10-14T00:00:00-04:00",
          "2024-10-15T00:00:00-04:00",
          "2024-10-16T00:00:00-04:00",
          "2024-10-17T00:00:00-04:00",
          "2024-10-18T00:00:00-04:00",
          "2024-10-21T00:00:00-04:00",
          "2024-10-22T00:00:00-04:00",
          "2024-10-23T00:00:00-04:00",
          "2024-10-24T00:00:00-04:00",
          "2024-10-25T00:00:00-04:00",
          "2024-10-28T00:00:00-04:00",
          "2024-10-29T00:00:00-04:00",
          "2024-10-30T00:00:00-04:00",
          "2024-10-31T00:00:00-04:00",
          "2024-11-01T00:00:00-04:00",
          "2024-11-04T00:00:00-05:00",
          "2024-11-05T00:00:00-05:00",
          "2024-11-06T00:00:00-05:00",
          "2024-11-07T00:00:00-05:00",
          "2024-11-08T00:00:00-05:00",
          "2024-11-11T00:00:00-05:00",
          "2024-11-12T00:00:00-05:00",
          "2024-11-13T00:00:00-05:00",
          "2024-11-14T00:00:00-05:00",
          "2024-11-15T00:00:00-05:00",
          "2024-11-18T00:00:00-05:00",
          "2024-11-19T00:00:00-05:00",
          "2024-11-20T00:00:00-05:00",
          "2024-11-21T00:00:00-05:00",
          "2024-11-22T00:00:00-05:00",
          "2024-11-25T00:00:00-05:00",
          "2024-11-26T00:00:00-05:00",
          "2024-11-27T00:00:00-05:00",
          "2024-11-29T00:00:00-05:00",
          "2024-12-02T00:00:00-05:00",
          "2024-12-03T00:00:00-05:00",
          "2024-12-04T00:00:00-05:00",
          "2024-12-05T00:00:00-05:00",
          "2024-12-06T00:00:00-05:00",
          "2024-12-09T00:00:00-05:00",
          "2024-12-10T00:00:00-05:00",
          "2024-12-11T00:00:00-05:00",
          "2024-12-12T00:00:00-05:00",
          "2024-12-13T00:00:00-05:00",
          "2024-12-16T00:00:00-05:00",
          "2024-12-17T00:00:00-05:00",
          "2024-12-18T00:00:00-05:00",
          "2024-12-19T00:00:00-05:00",
          "2024-12-20T00:00:00-05:00",
          "2024-12-23T00:00:00-05:00",
          "2024-12-24T00:00:00-05:00",
          "2024-12-26T00:00:00-05:00",
          "2024-12-27T00:00:00-05:00",
          "2024-12-30T00:00:00-05:00",
          "2024-12-31T00:00:00-05:00",
          "2025-01-02T00:00:00-05:00",
          "2025-01-03T00:00:00-05:00",
          "2025-01-06T00:00:00-05:00",
          "2025-01-07T00:00:00-05:00",
          "2025-01-08T00:00:00-05:00",
          "2025-01-10T00:00:00-05:00",
          "2025-01-13T00:00:00-05:00",
          "2025-01-14T00:00:00-05:00",
          "2025-01-15T00:00:00-05:00",
          "2025-01-16T00:00:00-05:00",
          "2025-01-17T00:00:00-05:00",
          "2025-01-21T00:00:00-05:00",
          "2025-01-22T00:00:00-05:00",
          "2025-01-23T00:00:00-05:00",
          "2025-01-24T00:00:00-05:00",
          "2025-01-27T00:00:00-05:00",
          "2025-01-28T00:00:00-05:00",
          "2025-01-29T00:00:00-05:00",
          "2025-01-30T00:00:00-05:00",
          "2025-01-31T00:00:00-05:00"
         ],
         "y": {
          "bdata": "AAAAAJ+ha0AAAAAgjjpsQAAAACDPaWxAAAAAQESFbEAAAACAjg5tQAAAAMDTYWxAAAAAAKfAbEAAAADg5DttQAAAAMBNSW1AAAAAAKeLbEAAAABgl/VrQAAAAOC9+WtAAAAAQJHua0AAAABgFxBsQAAAAKCEQWtAAAAAgP4fa0AAAAAAAC9rQAAAAKDwN2tAAAAAwNFJa0AAAAAAi7JrQAAAAGDFO2tAAAAAwKlra0AAAAAAjBlqQAAAAABq2GlAAAAAgBsrakAAAAAAiZpqQAAAAKAV+GpAAAAAYE8pa0AAAADA26BrQAAAACA+r2tAAAAAICMPbEAAAACApjlsQAAAAECJNGxAAAAAoFpIbEAAAACA1kRsQAAAAGAQCWxAAAAAAOdSbEAAAABAxV1sQAAAAMDweGxAAAAAALdHbEAAAADgMrFsQAAAAGDyl2xAAAAAQM7Qa0AAAAAAb5NrQAAAAOBWxGtAAAAAgHmSa0AAAADgWZVrQAAAAIDHe2tAAAAAIErNa0AAAABAztBrQAAAAOAsyGtAAAAAAKICa0AAAADgpxFrQAAAAKBRjmtAAAAAgMqTbEAAAADgX35sQAAAAGATR2xAAAAAANhjbEAAAAAA4UNsQAAAAICjaGxAAAAA4ERxbEAAAABgzhdtQAAAAODDPmxAAAAAIPxQbEAAAADggC1sQAAAAMCfUWxAAAAAoEiua0AAAABAszBsQAAAACA1qWxAAAAAoDmZbEAAAAAAmWlsQAAAAEB34WxAAAAA4PkybUAAAAAAz/BsQAAAAMCi/GxAAAAAQLxXbUAAAAAgC4dtQAAAAMA5c21AAAAAYDTQbEAAAADAIcpsQAAAAGD75GxAAAAAgJckbUAAAADgOC1tQAAAAKAbu2xAAAAA4Cw1bEAAAADgR9VrQAAAACCDuGtAAAAAoIrma0AAAAAgNc9rQAAAACBcZ2xAAAAAYLhebEAAAAAgXAdsQAAAACBcB2xAAAAAANcjbEAAAABACodsQAAAAAAAIGxAAAAA4KOAbEAAAADA9YhsQAAAAAAAoGxAAAAA4KOQbEAAAAAA17tsQAAAAADXG21AAAAAgOthbUAAAACAwl1tQAAAAGCPqm1AAAAAQOHybUAAAADAzFRuQAAAAOBRYG5AAAAAoEdhbkAAAABA4VpuQAAAAAAA2G5AAAAA4KP4bkAAAAAgrs9uQAAAAGC4/m5AAAAAACkEb0AAAACgR2FvQAAAACBcr29AAAAAoJkBb0AAAACgRzlvQAAAACCuz29AAAAA4KPob0AAAABAMyNwQAAAAOBRMHBAAAAAQOHyb0AAAABgZoZvQAAAAKBwTW9AAAAAQDN7bkAAAAAghWtuQAAAAAAAoG5AAAAAYLhGbkAAAABgZlZuQAAAAEAzm21AAAAAwMxMbUAAAADA9ShtQAAAAADXu21AAAAA4FGIbEAAAAAgXL9sQAAAAOB61GtAAAAAYI/6a0AAAADAHvVrQAAAAMD12GtAAAAAIIW7bEAAAADgUchtQAAAACCF621AAAAAQOGybUAAAAAAAIBtQAAAAOBRgGxA",
          "dtype": "f8"
         }
        },
        {
         "mode": "lines",
         "name": "Forecast",
         "type": "scatter",
         "x": [
          "2024-07-02T00:00:00-04:00",
          "2024-07-03T00:00:00-04:00",
          "2024-07-05T00:00:00-04:00",
          "2024-07-08T00:00:00-04:00",
          "2024-07-09T00:00:00-04:00",
          "2024-07-10T00:00:00-04:00",
          "2024-07-11T00:00:00-04:00",
          "2024-07-12T00:00:00-04:00",
          "2024-07-15T00:00:00-04:00",
          "2024-07-16T00:00:00-04:00",
          "2024-07-17T00:00:00-04:00",
          "2024-07-18T00:00:00-04:00",
          "2024-07-19T00:00:00-04:00",
          "2024-07-22T00:00:00-04:00",
          "2024-07-23T00:00:00-04:00",
          "2024-07-24T00:00:00-04:00",
          "2024-07-25T00:00:00-04:00",
          "2024-07-26T00:00:00-04:00",
          "2024-07-29T00:00:00-04:00",
          "2024-07-30T00:00:00-04:00",
          "2024-07-31T00:00:00-04:00",
          "2024-08-01T00:00:00-04:00",
          "2024-08-02T00:00:00-04:00",
          "2024-08-05T00:00:00-04:00",
          "2024-08-06T00:00:00-04:00",
          "2024-08-07T00:00:00-04:00",
          "2024-08-08T00:00:00-04:00",
          "2024-08-09T00:00:00-04:00",
          "2024-08-12T00:00:00-04:00",
          "2024-08-13T00:00:00-04:00",
          "2024-08-14T00:00:00-04:00",
          "2024-08-15T00:00:00-04:00",
          "2024-08-16T00:00:00-04:00",
          "2024-08-19T00:00:00-04:00",
          "2024-08-20T00:00:00-04:00",
          "2024-08-21T00:00:00-04:00",
          "2024-08-22T00:00:00-04:00",
          "2024-08-23T00:00:00-04:00",
          "2024-08-26T00:00:00-04:00",
          "2024-08-27T00:00:00-04:00",
          "2024-08-28T00:00:00-04:00",
          "2024-08-29T00:00:00-04:00",
          "2024-08-30T00:00:00-04:00",
          "2024-09-03T00:00:00-04:00",
          "2024-09-04T00:00:00-04:00",
          "2024-09-05T00:00:00-04:00",
          "2024-09-06T00:00:00-04:00",
          "2024-09-09T00:00:00-04:00",
          "2024-09-10T00:00:00-04:00",
          "2024-09-11T00:00:00-04:00",
          "2024-09-12T00:00:00-04:00",
          "2024-09-13T00:00:00-04:00",
          "2024-09-16T00:00:00-04:00",
          "2024-09-17T00:00:00-04:00",
          "2024-09-18T00:00:00-04:00",
          "2024-09-19T00:00:00-04:00",
          "2024-09-20T00:00:00-04:00",
          "2024-09-23T00:00:00-04:00",
          "2024-09-24T00:00:00-04:00",
          "2024-09-25T00:00:00-04:00",
          "2024-09-26T00:00:00-04:00",
          "2024-09-27T00:00:00-04:00",
          "2024-09-30T00:00:00-04:00",
          "2024-10-01T00:00:00-04:00",
          "2024-10-02T00:00:00-04:00",
          "2024-10-03T00:00:00-04:00",
          "2024-10-04T00:00:00-04:00",
          "2024-10-07T00:00:00-04:00",
          "2024-10-08T00:00:00-04:00",
          "2024-10-09T00:00:00-04:00",
          "2024-10-10T00:00:00-04:00",
          "2024-10-11T00:00:00-04:00",
          "2024-10-14T00:00:00-04:00",
          "2024-10-15T00:00:00-04:00",
          "2024-10-16T00:00:00-04:00",
          "2024-10-17T00:00:00-04:00",
          "2024-10-18T00:00:00-04:00",
          "2024-10-21T00:00:00-04:00",
          "2024-10-22T00:00:00-04:00",
          "2024-10-23T00:00:00-04:00",
          "2024-10-24T00:00:00-04:00",
          "2024-10-25T00:00:00-04:00",
          "2024-10-28T00:00:00-04:00",
          "2024-10-29T00:00:00-04:00",
          "2024-10-30T00:00:00-04:00",
          "2024-10-31T00:00:00-04:00",
          "2024-11-01T00:00:00-04:00",
          "2024-11-04T00:00:00-05:00",
          "2024-11-05T00:00:00-05:00",
          "2024-11-06T00:00:00-05:00",
          "2024-11-07T00:00:00-05:00",
          "2024-11-08T00:00:00-05:00",
          "2024-11-11T00:00:00-05:00",
          "2024-11-12T00:00:00-05:00",
          "2024-11-13T00:00:00-05:00",
          "2024-11-14T00:00:00-05:00",
          "2024-11-15T00:00:00-05:00",
          "2024-11-18T00:00:00-05:00",
          "2024-11-19T00:00:00-05:00",
          "2024-11-20T00:00:00-05:00",
          "2024-11-21T00:00:00-05:00",
          "2024-11-22T00:00:00-05:00",
          "2024-11-25T00:00:00-05:00",
          "2024-11-26T00:00:00-05:00",
          "2024-11-27T00:00:00-05:00",
          "2024-11-29T00:00:00-05:00",
          "2024-12-02T00:00:00-05:00",
          "2024-12-03T00:00:00-05:00",
          "2024-12-04T00:00:00-05:00",
          "2024-12-05T00:00:00-05:00",
          "2024-12-06T00:00:00-05:00",
          "2024-12-09T00:00:00-05:00",
          "2024-12-10T00:00:00-05:00",
          "2024-12-11T00:00:00-05:00",
          "2024-12-12T00:00:00-05:00",
          "2024-12-13T00:00:00-05:00",
          "2024-12-16T00:00:00-05:00",
          "2024-12-17T00:00:00-05:00",
          "2024-12-18T00:00:00-05:00",
          "2024-12-19T00:00:00-05:00",
          "2024-12-20T00:00:00-05:00",
          "2024-12-23T00:00:00-05:00",
          "2024-12-24T00:00:00-05:00",
          "2024-12-26T00:00:00-05:00",
          "2024-12-27T00:00:00-05:00",
          "2024-12-30T00:00:00-05:00",
          "2024-12-31T00:00:00-05:00",
          "2025-01-02T00:00:00-05:00",
          "2025-01-03T00:00:00-05:00",
          "2025-01-06T00:00:00-05:00",
          "2025-01-07T00:00:00-05:00",
          "2025-01-08T00:00:00-05:00",
          "2025-01-10T00:00:00-05:00",
          "2025-01-13T00:00:00-05:00",
          "2025-01-14T00:00:00-05:00",
          "2025-01-15T00:00:00-05:00",
          "2025-01-16T00:00:00-05:00",
          "2025-01-17T00:00:00-05:00",
          "2025-01-21T00:00:00-05:00",
          "2025-01-22T00:00:00-05:00",
          "2025-01-23T00:00:00-05:00",
          "2025-01-24T00:00:00-05:00",
          "2025-01-27T00:00:00-05:00",
          "2025-01-28T00:00:00-05:00",
          "2025-01-29T00:00:00-05:00",
          "2025-01-30T00:00:00-05:00",
          "2025-01-31T00:00:00-05:00"
         ],
         "y": {
          "bdata": "EkrzYu/pakCVBC3QzEZqQMpqJyP1yWpAB3qIZfiTakBIY4bwhj1qQB38ggP4k2pA/k30dCuUakByRPmqFJhqQDkHjLHzxmpA/LaSqAZ/akD2cAdlN3VqQO2L4SS6lWpASMweQ9R7akBQWG65pWdqQHli2eIkaWpAVMccWHEYakBV/mGKXONpQCRBdyy7w2lApgKAKueqaUC4nYkcppFpQOICm/wtxGlAcuIa5JqzaUAqo3bCD/ZpQBK1JfK/KmlAfYyJNRSDaUAWV9Yk0vhpQFOLrc0CHGpAug7oVvIkakCS8w5q0uNpQKZ46nBGPmpAenDoT+AtakCnrtqIQShqQAQuxHOXLWpAPZgDMzgsakDnVcKqBPtpQEsl0iJaGmpAfCDlK0wtakD/Vfr40khqQKE+pinzI2pABGN9WV8takBJu0LH7kBqQGxjSnsnY2pAJ0kQZ4tDakBhWU1TYVNqQPLr4vePLWpAcFxvvtcPakBOJlLaHthpQAv4t7+IDGpAqHRSDE2raUCRg5Hdl+5pQB8pTGxh12lA2NPZ+lJ+aUAgqDy2BJ1pQPpqvwA0oWlALC58sg9cakDr0seaHL5qQMYtVkbii2pAlZ9nscJ7akC3pfK8VX5qQDHD8ECkZGpAdibhHDsoakC4DVIP1wBqQMyUyuJWnGpAw6GpfapmakBanPbhy2tqQLB4YaC0VmpA/AtpPyGJakB5UsCbMzVqQKEqf0zRb2pAPhE1Pex7akAaj5v8ShZqQBOYcdmMGWpAnDIq3vFhakBuocs+dq9qQFGWMeFYDGpA5iMulWI5akBiPuE9YCtqQFBZ5qB2I2pALlgEg9o7akDyIDKR5llqQGBztParImpASHBBJbVlakDCXq1Y/SxqQNrKMXrDFmpAVfMDTJULakBu+CeXORtqQNYOa1Cs5mlA8cUG6jZjaUCzh3KZ9HxpQLwa5Q7AyGlAFZ3x573naUDnDDOiunRpQFHY4ABzlGlA2gbUcnOhaUAoy5zujeVpQC4xSFIk5WlA0sU/l1KdaUAtMHQuf/xpQJEIQWQgAWpAA6RbKjZLakBYGcdoCldqQC7fxDseLGpAThAcX0l+akA2t1sq/yZqQNrJQWdUBmpAOyeLGgFAakCkXaUw70hqQP6h+sc2TGpA99T1zO4uakCE0TnusB9qQCkgvOsTD2pAZhUI5sl/akAfNizvAyBqQHt8parzQ2pAzwCKn14yakAB3n2hzitqQMFrmbMgQGpAY/C08P5EakBCO6JR7oJqQG7/wiH8uGpAGHqb2QQJa0DUS2407lpqQBYMVaBBdWpAuEXFAR4iakC/9u9MimNqQE7BTnNDE2pAw2QmCmpAakCwgXMyYhhqQPa/e6yivWlAMBml5zUbakBuFTiccblpQFQHwBt0vGlAdmQgTvjYaUCESfaLnqppQD0etcOIYGlATH/iE07SaUDK13wDzmNpQIQIIFXOxmlA1U7UBrauaUD3o26r8MdpQHzds/QU02lAajBeC0yyaUBAOVKPKnxqQOkcDoMhl2pA3Mbiyps4akD6qhth7zNqQATahHDFimpA",
          "dtype": "f8"
         }
        }
       ],
       "layout": {
        "hovermode": "x unified",
        "template": {
         "data": {
          "bar": [
           {
            "error_x": {
             "color": "#2a3f5f"
            },
            "error_y": {
             "color": "#2a3f5f"
            },
            "marker": {
             "line": {
              "color": "#E5ECF6",
              "width": 0.5
             },
             "pattern": {
              "fillmode": "overlay",
              "size": 10,
              "solidity": 0.2
             }
            },
            "type": "bar"
           }
          ],
          "barpolar": [
           {
            "marker": {
             "line": {
              "color": "#E5ECF6",
              "width": 0.5
             },
             "pattern": {
              "fillmode": "overlay",
              "size": 10,
              "solidity": 0.2
             }
            },
            "type": "barpolar"
           }
          ],
          "carpet": [
           {
            "aaxis": {
             "endlinecolor": "#2a3f5f",
             "gridcolor": "white",
             "linecolor": "white",
             "minorgridcolor": "white",
             "startlinecolor": "#2a3f5f"
            },
            "baxis": {
             "endlinecolor": "#2a3f5f",
             "gridcolor": "white",
             "linecolor": "white",
             "minorgridcolor": "white",
             "startlinecolor": "#2a3f5f"
            },
            "type": "carpet"
           }
          ],
          "choropleth": [
           {
            "colorbar": {
             "outlinewidth": 0,
             "ticks": ""
            },
            "type": "choropleth"
           }
          ],
          "contour": [
           {
            "colorbar": {
             "outlinewidth": 0,
             "ticks": ""
            },
            "colorscale": [
             [
              0,
              "#0d0887"
             ],
             [
              0.1111111111111111,
              "#46039f"
             ],
             [
              0.2222222222222222,
              "#7201a8"
             ],
             [
              0.3333333333333333,
              "#9c179e"
             ],
             [
              0.4444444444444444,
              "#bd3786"
             ],
             [
              0.5555555555555556,
              "#d8576b"
             ],
             [
              0.6666666666666666,
              "#ed7953"
             ],
             [
              0.7777777777777778,
              "#fb9f3a"
             ],
             [
              0.8888888888888888,
              "#fdca26"
             ],
             [
              1,
              "#f0f921"
             ]
            ],
            "type": "contour"
           }
          ],
          "contourcarpet": [
           {
            "colorbar": {
             "outlinewidth": 0,
             "ticks": ""
            },
            "type": "contourcarpet"
           }
          ],
          "heatmap": [
           {
            "colorbar": {
             "outlinewidth": 0,
             "ticks": ""
            },
            "colorscale": [
             [
              0,
              "#0d0887"
             ],
             [
              0.1111111111111111,
              "#46039f"
             ],
             [
              0.2222222222222222,
              "#7201a8"
             ],
             [
              0.3333333333333333,
              "#9c179e"
             ],
             [
              0.4444444444444444,
              "#bd3786"
             ],
             [
              0.5555555555555556,
              "#d8576b"
             ],
             [
              0.6666666666666666,
              "#ed7953"
             ],
             [
              0.7777777777777778,
              "#fb9f3a"
             ],
             [
              0.8888888888888888,
              "#fdca26"
             ],
             [
              1,
              "#f0f921"
             ]
            ],
            "type": "heatmap"
           }
          ],
          "histogram": [
           {
            "marker": {
             "pattern": {
              "fillmode": "overlay",
              "size": 10,
              "solidity": 0.2
             }
            },
            "type": "histogram"
           }
          ],
          "histogram2d": [
           {
            "colorbar": {
             "outlinewidth": 0,
             "ticks": ""
            },
            "colorscale": [
             [
              0,
              "#0d0887"
             ],
             [
              0.1111111111111111,
              "#46039f"
             ],
             [
              0.2222222222222222,
              "#7201a8"
             ],
             [
              0.3333333333333333,
              "#9c179e"
             ],
             [
              0.4444444444444444,
              "#bd3786"
             ],
             [
              0.5555555555555556,
              "#d8576b"
             ],
             [
              0.6666666666666666,
              "#ed7953"
             ],
             [
              0.7777777777777778,
              "#fb9f3a"
             ],
             [
              0.8888888888888888,
              "#fdca26"
             ],
             [
              1,
              "#f0f921"
             ]
            ],
            "type": "histogram2d"
           }
          ],
          "histogram2dcontour": [
           {
            "colorbar": {
             "outlinewidth": 0,
             "ticks": ""
            },
            "colorscale": [
             [
              0,
              "#0d0887"
             ],
             [
              0.1111111111111111,
              "#46039f"
             ],
             [
              0.2222222222222222,
              "#7201a8"
             ],
             [
              0.3333333333333333,
              "#9c179e"
             ],
             [
              0.4444444444444444,
              "#bd3786"
             ],
             [
              0.5555555555555556,
              "#d8576b"
             ],
             [
              0.6666666666666666,
              "#ed7953"
             ],
             [
              0.7777777777777778,
              "#fb9f3a"
             ],
             [
              0.8888888888888888,
              "#fdca26"
             ],
             [
              1,
              "#f0f921"
             ]
            ],
            "type": "histogram2dcontour"
           }
          ],
          "mesh3d": [
           {
            "colorbar": {
             "outlinewidth": 0,
             "ticks": ""
            },
            "type": "mesh3d"
           }
          ],
          "parcoords": [
           {
            "line": {
             "colorbar": {
              "outlinewidth": 0,
              "ticks": ""
             }
            },
            "type": "parcoords"
           }
          ],
          "pie": [
           {
            "automargin": true,
            "type": "pie"
           }
          ],
          "scatter": [
           {
            "fillpattern": {
             "fillmode": "overlay",
             "size": 10,
             "solidity": 0.2
            },
            "type": "scatter"
           }
          ],
          "scatter3d": [
           {
            "line": {
             "colorbar": {
              "outlinewidth": 0,
              "ticks": ""
             }
            },
            "marker": {
             "colorbar": {
              "outlinewidth": 0,
              "ticks": ""
             }
            },
            "type": "scatter3d"
           }
          ],
          "scattercarpet": [
           {
            "marker": {
             "colorbar": {
              "outlinewidth": 0,
              "ticks": ""
             }
            },
            "type": "scattercarpet"
           }
          ],
          "scattergeo": [
           {
            "marker": {
             "colorbar": {
              "outlinewidth": 0,
              "ticks": ""
             }
            },
            "type": "scattergeo"
           }
          ],
          "scattergl": [
           {
            "marker": {
             "colorbar": {
              "outlinewidth": 0,
              "ticks": ""
             }
            },
            "type": "scattergl"
           }
          ],
          "scattermap": [
           {
            "marker": {
             "colorbar": {
              "outlinewidth": 0,
              "ticks": ""
             }
            },
            "type": "scattermap"
           }
          ],
          "scattermapbox": [
           {
            "marker": {
             "colorbar": {
              "outlinewidth": 0,
              "ticks": ""
             }
            },
            "type": "scattermapbox"
           }
          ],
          "scatterpolar": [
           {
            "marker": {
             "colorbar": {
              "outlinewidth": 0,
              "ticks": ""
             }
            },
            "type": "scatterpolar"
           }
          ],
          "scatterpolargl": [
           {
            "marker": {
             "colorbar": {
              "outlinewidth": 0,
              "ticks": ""
             }
            },
            "type": "scatterpolargl"
           }
          ],
          "scatterternary": [
           {
            "marker": {
             "colorbar": {
              "outlinewidth": 0,
              "ticks": ""
             }
            },
            "type": "scatterternary"
           }
          ],
          "surface": [
           {
            "colorbar": {
             "outlinewidth": 0,
             "ticks": ""
            },
            "colorscale": [
             [
              0,
              "#0d0887"
             ],
             [
              0.1111111111111111,
              "#46039f"
             ],
             [
              0.2222222222222222,
              "#7201a8"
             ],
             [
              0.3333333333333333,
              "#9c179e"
             ],
             [
              0.4444444444444444,
              "#bd3786"
             ],
             [
              0.5555555555555556,
              "#d8576b"
             ],
             [
              0.6666666666666666,
              "#ed7953"
             ],
             [
              0.7777777777777778,
              "#fb9f3a"
             ],
             [
              0.8888888888888888,
              "#fdca26"
             ],
             [
              1,
              "#f0f921"
             ]
            ],
            "type": "surface"
           }
          ],
          "table": [
           {
            "cells": {
             "fill": {
              "color": "#EBF0F8"
             },
             "line": {
              "color": "white"
             }
            },
            "header": {
             "fill": {
              "color": "#C8D4E3"
             },
             "line": {
              "color": "white"
             }
            },
            "type": "table"
           }
          ]
         },
         "layout": {
          "annotationdefaults": {
           "arrowcolor": "#2a3f5f",
           "arrowhead": 0,
           "arrowwidth": 1
          },
          "autotypenumbers": "strict",
          "coloraxis": {
           "colorbar": {
            "outlinewidth": 0,
            "ticks": ""
           }
          },
          "colorscale": {
           "diverging": [
            [
             0,
             "#8e0152"
            ],
            [
             0.1,
             "#c51b7d"
            ],
            [
             0.2,
             "#de77ae"
            ],
            [
             0.3,
             "#f1b6da"
            ],
            [
             0.4,
             "#fde0ef"
            ],
            [
             0.5,
             "#f7f7f7"
            ],
            [
             0.6,
             "#e6f5d0"
            ],
            [
             0.7,
             "#b8e186"
            ],
            [
             0.8,
             "#7fbc41"
            ],
            [
             0.9,
             "#4d9221"
            ],
            [
             1,
             "#276419"
            ]
           ],
           "sequential": [
            [
             0,
             "#0d0887"
            ],
            [
             0.1111111111111111,
             "#46039f"
            ],
            [
             0.2222222222222222,
             "#7201a8"
            ],
            [
             0.3333333333333333,
             "#9c179e"
            ],
            [
             0.4444444444444444,
             "#bd3786"
            ],
            [
             0.5555555555555556,
             "#d8576b"
            ],
            [
             0.6666666666666666,
             "#ed7953"
            ],
            [
             0.7777777777777778,
             "#fb9f3a"
            ],
            [
             0.8888888888888888,
             "#fdca26"
            ],
            [
             1,
             "#f0f921"
            ]
           ],
           "sequentialminus": [
            [
             0,
             "#0d0887"
            ],
            [
             0.1111111111111111,
             "#46039f"
            ],
            [
             0.2222222222222222,
             "#7201a8"
            ],
            [
             0.3333333333333333,
             "#9c179e"
            ],
            [
             0.4444444444444444,
             "#bd3786"
            ],
            [
             0.5555555555555556,
             "#d8576b"
            ],
            [
             0.6666666666666666,
             "#ed7953"
            ],
            [
             0.7777777777777778,
             "#fb9f3a"
            ],
            [
             0.8888888888888888,
             "#fdca26"
            ],
            [
             1,
             "#f0f921"
            ]
           ]
          },
          "colorway": [
           "#636efa",
           "#EF553B",
           "#00cc96",
           "#ab63fa",
           "#FFA15A",
           "#19d3f3",
           "#FF6692",
           "#B6E880",
           "#FF97FF",
           "#FECB52"
          ],
          "font": {
           "color": "#2a3f5f"
          },
          "geo": {
           "bgcolor": "white",
           "lakecolor": "white",
           "landcolor": "#E5ECF6",
           "showlakes": true,
           "showland": true,
           "subunitcolor": "white"
          },
          "hoverlabel": {
           "align": "left"
          },
          "hovermode": "closest",
          "mapbox": {
           "style": "light"
          },
          "paper_bgcolor": "white",
          "plot_bgcolor": "#E5ECF6",
          "polar": {
           "angularaxis": {
            "gridcolor": "white",
            "linecolor": "white",
            "ticks": ""
           },
           "bgcolor": "#E5ECF6",
           "radialaxis": {
            "gridcolor": "white",
            "linecolor": "white",
            "ticks": ""
           }
          },
          "scene": {
           "xaxis": {
            "backgroundcolor": "#E5ECF6",
            "gridcolor": "white",
            "gridwidth": 2,
            "linecolor": "white",
            "showbackground": true,
            "ticks": "",
            "zerolinecolor": "white"
           },
           "yaxis": {
            "backgroundcolor": "#E5ECF6",
            "gridcolor": "white",
            "gridwidth": 2,
            "linecolor": "white",
            "showbackground": true,
            "ticks": "",
            "zerolinecolor": "white"
           },
           "zaxis": {
            "backgroundcolor": "#E5ECF6",
            "gridcolor": "white",
            "gridwidth": 2,
            "linecolor": "white",
            "showbackground": true,
            "ticks": "",
            "zerolinecolor": "white"
           }
          },
          "shapedefaults": {
           "line": {
            "color": "#2a3f5f"
           }
          },
          "ternary": {
           "aaxis": {
            "gridcolor": "white",
            "linecolor": "white",
            "ticks": ""
           },
           "baxis": {
            "gridcolor": "white",
            "linecolor": "white",
            "ticks": ""
           },
           "bgcolor": "#E5ECF6",
           "caxis": {
            "gridcolor": "white",
            "linecolor": "white",
            "ticks": ""
           }
          },
          "title": {
           "x": 0.05
          },
          "xaxis": {
           "automargin": true,
           "gridcolor": "white",
           "linecolor": "white",
           "ticks": "",
           "title": {
            "standoff": 15
           },
           "zerolinecolor": "white",
           "zerolinewidth": 2
          },
          "yaxis": {
           "automargin": true,
           "gridcolor": "white",
           "linecolor": "white",
           "ticks": "",
           "title": {
            "standoff": 15
           },
           "zerolinecolor": "white",
           "zerolinewidth": 2
          }
         }
        },
        "title": {
         "text": "Actual vs Forecasted Next Day Close Price"
        },
        "xaxis": {
         "title": {
          "text": "Date"
         }
        },
        "yaxis": {
         "title": {
          "text": "Price"
         }
        }
       }
      }
     },
     "metadata": {},
     "output_type": "display_data"
    }
   ],
   "source": [
    "import plotly.graph_objects as go\n",
    "\n",
    "test_dates = df['Date'].iloc[train_size:].reset_index(drop=True)\n",
    "\n",
    "fig = go.Figure()\n",
    "\n",
    "fig.add_trace(go.Scatter(\n",
    "    x=test_dates,\n",
    "    y=y_test,\n",
    "    mode='lines',\n",
    "    name='Actual'\n",
    "))\n",
    "\n",
    "fig.add_trace(go.Scatter(\n",
    "    x=test_dates,\n",
    "    y=y_pred,\n",
    "    mode='lines',\n",
    "    name='Forecast'\n",
    "))\n",
    "\n",
    "fig.update_layout(\n",
    "    title=\"Actual vs Forecasted Next Day Close Price\",\n",
    "    xaxis_title=\"Date\",\n",
    "    yaxis_title=\"Price\",\n",
    "    hovermode=\"x unified\"\n",
    ")\n",
    "\n",
    "fig.show()"
   ]
  }
 ],
 "metadata": {
  "kernelspec": {
   "display_name": "myenv",
   "language": "python",
   "name": "python3"
  },
  "language_info": {
   "codemirror_mode": {
    "name": "ipython",
    "version": 3
   },
   "file_extension": ".py",
   "mimetype": "text/x-python",
   "name": "python",
   "nbconvert_exporter": "python",
   "pygments_lexer": "ipython3",
   "version": "3.12.0"
  }
 },
 "nbformat": 4,
 "nbformat_minor": 2
}
